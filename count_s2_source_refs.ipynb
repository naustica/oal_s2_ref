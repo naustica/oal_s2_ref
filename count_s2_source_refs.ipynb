{
 "cells": [
  {
   "cell_type": "code",
   "execution_count": 23,
   "id": "753e614d-d9b1-461d-bf5a-9eb6799024bd",
   "metadata": {},
   "outputs": [],
   "source": [
    "import json\n",
    "from collections import Counter\n",
    "import pandas as pd"
   ]
  },
  {
   "cell_type": "markdown",
   "id": "a71afe5b-8cc7-4948-bd88-30abac6748f2",
   "metadata": {},
   "source": [
    "### Sample\n",
    "\n",
    "{\"citationid\":1576440663,\"citingcorpusid\":145058343,\"citedcorpusid\":null,\"isinfluential\":false,\"contexts\":null,\"intents\":null}\n",
    "{\"citationid\":2356978354,\"citingcorpusid\":24094241,\"citedcorpusid\":1920165,\"isinfluential\":false,\"contexts\":null,\"intents\":null}"
   ]
  },
  {
   "cell_type": "code",
   "execution_count": 10,
   "id": "8e465325-3c05-44cc-90e6-0572dcb4c9b9",
   "metadata": {},
   "outputs": [],
   "source": [
    "new_data = []\n",
    "\n",
    "with open('semantic_scholar_citations_sample_20250715/citations-part1.jsonl', 'r') as file:\n",
    "    for line in file:\n",
    "        new_item = json.loads(line)\n",
    "        if new_item.get('citedcorpusid'):\n",
    "            new_data.append(new_item.get('citingcorpusid'))"
   ]
  },
  {
   "cell_type": "code",
   "execution_count": 11,
   "id": "ba2fcd03-f637-4a3c-8cdc-4b3718eaf95c",
   "metadata": {},
   "outputs": [],
   "source": [
    "c = Counter(new_data)"
   ]
  },
  {
   "cell_type": "code",
   "execution_count": 12,
   "id": "7ac1c256-883b-4fdb-b2a0-2c1b5e7c15e6",
   "metadata": {},
   "outputs": [
    {
     "data": {
      "text/plain": [
       "[(14222903, 107),\n",
       " (136795997, 90),\n",
       " (11155870, 87),\n",
       " (1500895, 86),\n",
       " (202684204, 82)]"
      ]
     },
     "execution_count": 12,
     "metadata": {},
     "output_type": "execute_result"
    }
   ],
   "source": [
    "c.most_common(5)"
   ]
  },
  {
   "cell_type": "code",
   "execution_count": 13,
   "id": "ed77f2cb-3a18-4443-8ba9-4439610fa3c1",
   "metadata": {},
   "outputs": [],
   "source": [
    "new_data_all = []\n",
    "\n",
    "with open('semantic_scholar_citations_sample_20250715/citations-part1.jsonl', 'r') as file:\n",
    "    for line in file:\n",
    "        new_item = json.loads(line)\n",
    "        new_data_all.append(new_item.get('citingcorpusid'))"
   ]
  },
  {
   "cell_type": "code",
   "execution_count": 14,
   "id": "ef53bc80-1b92-4292-82d6-6bfb74075f53",
   "metadata": {},
   "outputs": [],
   "source": [
    "c_all = Counter(new_data_all)"
   ]
  },
  {
   "cell_type": "code",
   "execution_count": 15,
   "id": "21970253-45bb-4aaf-9d41-062d02256b78",
   "metadata": {},
   "outputs": [
    {
     "data": {
      "text/plain": [
       "[(10848014, 658),\n",
       " (9067019, 128),\n",
       " (136795997, 117),\n",
       " (167936588, 113),\n",
       " (14222903, 107)]"
      ]
     },
     "execution_count": 15,
     "metadata": {},
     "output_type": "execute_result"
    }
   ],
   "source": [
    "c_all.most_common(5)"
   ]
  },
  {
   "cell_type": "code",
   "execution_count": 41,
   "id": "4f9e0c72-7909-43e6-8c5c-a7282f53ff57",
   "metadata": {},
   "outputs": [],
   "source": [
    "df = pd.DataFrame.from_records(list(dict(c).items()), columns=['corpusid', 'count'])\n",
    "df_all = pd.DataFrame.from_records(list(dict(c_all).items()), columns=['corpusid', 'count'])"
   ]
  },
  {
   "cell_type": "code",
   "execution_count": 58,
   "id": "b5f53b29-e0a1-43ec-8e32-38d4b2b147cc",
   "metadata": {},
   "outputs": [],
   "source": [
    "df_per = df_all.merge(df, how='left', on='corpusid', suffixes=('_all', '_source'))\n",
    "df_per['count_source'] = df_per['count_source'].fillna(value=0)\n",
    "df_per['count_source'] = df_per['count_source'].astype(int)\n",
    "df_per['share'] = df_per['count_source'] / df_per['count_all']"
   ]
  },
  {
   "cell_type": "code",
   "execution_count": 59,
   "id": "03dd4b35-43c5-466e-b26e-1faed547cd55",
   "metadata": {},
   "outputs": [
    {
     "data": {
      "text/html": [
       "<div>\n",
       "<style scoped>\n",
       "    .dataframe tbody tr th:only-of-type {\n",
       "        vertical-align: middle;\n",
       "    }\n",
       "\n",
       "    .dataframe tbody tr th {\n",
       "        vertical-align: top;\n",
       "    }\n",
       "\n",
       "    .dataframe thead th {\n",
       "        text-align: right;\n",
       "    }\n",
       "</style>\n",
       "<table border=\"1\" class=\"dataframe\">\n",
       "  <thead>\n",
       "    <tr style=\"text-align: right;\">\n",
       "      <th></th>\n",
       "      <th>corpusid</th>\n",
       "      <th>count_all</th>\n",
       "      <th>count_source</th>\n",
       "      <th>share</th>\n",
       "    </tr>\n",
       "  </thead>\n",
       "  <tbody>\n",
       "    <tr>\n",
       "      <th>0</th>\n",
       "      <td>273985564</td>\n",
       "      <td>2</td>\n",
       "      <td>2</td>\n",
       "      <td>1.0</td>\n",
       "    </tr>\n",
       "    <tr>\n",
       "      <th>1</th>\n",
       "      <td>215885109</td>\n",
       "      <td>2</td>\n",
       "      <td>2</td>\n",
       "      <td>1.0</td>\n",
       "    </tr>\n",
       "    <tr>\n",
       "      <th>2</th>\n",
       "      <td>21200586</td>\n",
       "      <td>1</td>\n",
       "      <td>1</td>\n",
       "      <td>1.0</td>\n",
       "    </tr>\n",
       "    <tr>\n",
       "      <th>3</th>\n",
       "      <td>210493829</td>\n",
       "      <td>2</td>\n",
       "      <td>2</td>\n",
       "      <td>1.0</td>\n",
       "    </tr>\n",
       "    <tr>\n",
       "      <th>4</th>\n",
       "      <td>37407888</td>\n",
       "      <td>1</td>\n",
       "      <td>1</td>\n",
       "      <td>1.0</td>\n",
       "    </tr>\n",
       "  </tbody>\n",
       "</table>\n",
       "</div>"
      ],
      "text/plain": [
       "    corpusid  count_all  count_source  share\n",
       "0  273985564          2             2    1.0\n",
       "1  215885109          2             2    1.0\n",
       "2   21200586          1             1    1.0\n",
       "3  210493829          2             2    1.0\n",
       "4   37407888          1             1    1.0"
      ]
     },
     "execution_count": 59,
     "metadata": {},
     "output_type": "execute_result"
    }
   ],
   "source": [
    "df_per.head(5)"
   ]
  },
  {
   "cell_type": "code",
   "execution_count": 62,
   "id": "c9e0ae68-85ad-4b2c-bcbd-0f65e9d558b4",
   "metadata": {},
   "outputs": [
    {
     "data": {
      "text/html": [
       "<div>\n",
       "<style scoped>\n",
       "    .dataframe tbody tr th:only-of-type {\n",
       "        vertical-align: middle;\n",
       "    }\n",
       "\n",
       "    .dataframe tbody tr th {\n",
       "        vertical-align: top;\n",
       "    }\n",
       "\n",
       "    .dataframe thead th {\n",
       "        text-align: right;\n",
       "    }\n",
       "</style>\n",
       "<table border=\"1\" class=\"dataframe\">\n",
       "  <thead>\n",
       "    <tr style=\"text-align: right;\">\n",
       "      <th></th>\n",
       "      <th>corpusid</th>\n",
       "      <th>count_all</th>\n",
       "      <th>count_source</th>\n",
       "      <th>share</th>\n",
       "    </tr>\n",
       "  </thead>\n",
       "  <tbody>\n",
       "    <tr>\n",
       "      <th>49573</th>\n",
       "      <td>8554023</td>\n",
       "      <td>11</td>\n",
       "      <td>5</td>\n",
       "      <td>0.454545</td>\n",
       "    </tr>\n",
       "    <tr>\n",
       "      <th>68874</th>\n",
       "      <td>5618881</td>\n",
       "      <td>12</td>\n",
       "      <td>4</td>\n",
       "      <td>0.333333</td>\n",
       "    </tr>\n",
       "    <tr>\n",
       "      <th>136382</th>\n",
       "      <td>165559226</td>\n",
       "      <td>18</td>\n",
       "      <td>3</td>\n",
       "      <td>0.166667</td>\n",
       "    </tr>\n",
       "    <tr>\n",
       "      <th>143958</th>\n",
       "      <td>9936537</td>\n",
       "      <td>22</td>\n",
       "      <td>9</td>\n",
       "      <td>0.409091</td>\n",
       "    </tr>\n",
       "    <tr>\n",
       "      <th>144652</th>\n",
       "      <td>147242408</td>\n",
       "      <td>11</td>\n",
       "      <td>3</td>\n",
       "      <td>0.272727</td>\n",
       "    </tr>\n",
       "    <tr>\n",
       "      <th>...</th>\n",
       "      <td>...</td>\n",
       "      <td>...</td>\n",
       "      <td>...</td>\n",
       "      <td>...</td>\n",
       "    </tr>\n",
       "    <tr>\n",
       "      <th>8099817</th>\n",
       "      <td>211835631</td>\n",
       "      <td>12</td>\n",
       "      <td>3</td>\n",
       "      <td>0.250000</td>\n",
       "    </tr>\n",
       "    <tr>\n",
       "      <th>8456526</th>\n",
       "      <td>152842253</td>\n",
       "      <td>11</td>\n",
       "      <td>2</td>\n",
       "      <td>0.181818</td>\n",
       "    </tr>\n",
       "    <tr>\n",
       "      <th>8672763</th>\n",
       "      <td>151564129</td>\n",
       "      <td>12</td>\n",
       "      <td>3</td>\n",
       "      <td>0.250000</td>\n",
       "    </tr>\n",
       "    <tr>\n",
       "      <th>9035647</th>\n",
       "      <td>219827554</td>\n",
       "      <td>12</td>\n",
       "      <td>5</td>\n",
       "      <td>0.416667</td>\n",
       "    </tr>\n",
       "    <tr>\n",
       "      <th>10482938</th>\n",
       "      <td>274523986</td>\n",
       "      <td>16</td>\n",
       "      <td>2</td>\n",
       "      <td>0.125000</td>\n",
       "    </tr>\n",
       "  </tbody>\n",
       "</table>\n",
       "<p>98 rows × 4 columns</p>\n",
       "</div>"
      ],
      "text/plain": [
       "           corpusid  count_all  count_source     share\n",
       "49573       8554023         11             5  0.454545\n",
       "68874       5618881         12             4  0.333333\n",
       "136382    165559226         18             3  0.166667\n",
       "143958      9936537         22             9  0.409091\n",
       "144652    147242408         11             3  0.272727\n",
       "...             ...        ...           ...       ...\n",
       "8099817   211835631         12             3  0.250000\n",
       "8456526   152842253         11             2  0.181818\n",
       "8672763   151564129         12             3  0.250000\n",
       "9035647   219827554         12             5  0.416667\n",
       "10482938  274523986         16             2  0.125000\n",
       "\n",
       "[98 rows x 4 columns]"
      ]
     },
     "execution_count": 62,
     "metadata": {},
     "output_type": "execute_result"
    }
   ],
   "source": [
    "df_per[(df_per.share < 0.5) & (df_per.share > 0.1) & (df_per.count_all > 10)]"
   ]
  },
  {
   "cell_type": "markdown",
   "id": "3ede8326-d497-4d57-97ff-47016e015345",
   "metadata": {},
   "source": [
    "## Test mapping"
   ]
  },
  {
   "cell_type": "code",
   "execution_count": 69,
   "id": "31d46d15-7de6-41db-b7a8-f52132554896",
   "metadata": {},
   "outputs": [
    {
     "data": {
      "text/plain": [
       "[(14222903, 107),\n",
       " (136795997, 90),\n",
       " (11155870, 87),\n",
       " (1500895, 86),\n",
       " (202684204, 82)]"
      ]
     },
     "execution_count": 69,
     "metadata": {},
     "output_type": "execute_result"
    }
   ],
   "source": [
    "c.most_common(5)"
   ]
  },
  {
   "cell_type": "code",
   "execution_count": 125,
   "id": "9afb0e78-2a72-458b-b0f3-b60e33ddbcbf",
   "metadata": {},
   "outputs": [],
   "source": [
    "d1_test = c.most_common(5)\n",
    "d2_test = c.most_common(5)\n",
    "d3_test = c.most_common(10)\n",
    "d4_test = c.most_common(15)"
   ]
  },
  {
   "cell_type": "code",
   "execution_count": 126,
   "id": "956bfc23-1697-4790-92f9-393962e2983b",
   "metadata": {},
   "outputs": [],
   "source": [
    "d_list = [d1_test, d2_test, d3_test, d4_test]"
   ]
  },
  {
   "cell_type": "code",
   "execution_count": 127,
   "id": "2a3d3683-001c-4052-8942-2c5efa96e617",
   "metadata": {},
   "outputs": [],
   "source": [
    "from multiprocessing import Pool\n",
    "from operator import add\n",
    "from functools import reduce"
   ]
  },
  {
   "cell_type": "code",
   "execution_count": 128,
   "id": "8eda61e5-411a-46b5-8d53-c80dc2d92732",
   "metadata": {},
   "outputs": [],
   "source": [
    "with Pool(processes=2) as pool:\n",
    "    c_reduced = reduce(add, (Counter(dict(i)) for i in d_list))"
   ]
  },
  {
   "cell_type": "code",
   "execution_count": 129,
   "id": "7e0dbcef-c73d-42f5-965f-d597da8881f4",
   "metadata": {},
   "outputs": [
    {
     "data": {
      "text/plain": [
       "Counter({14222903: 428,\n",
       "         136795997: 360,\n",
       "         11155870: 348,\n",
       "         1500895: 344,\n",
       "         202684204: 328,\n",
       "         86108331: 158,\n",
       "         5018677: 154,\n",
       "         86234595: 130,\n",
       "         278634262: 108,\n",
       "         262346921: 106,\n",
       "         73343816: 52,\n",
       "         7825473: 49,\n",
       "         247670914: 48,\n",
       "         11815254: 45,\n",
       "         1035356: 45})"
      ]
     },
     "execution_count": 129,
     "metadata": {},
     "output_type": "execute_result"
    }
   ],
   "source": [
    "c_reduced"
   ]
  },
  {
   "cell_type": "code",
   "execution_count": null,
   "id": "5ad30cd2-6ffb-4c9c-8229-367fd7e766c9",
   "metadata": {},
   "outputs": [],
   "source": []
  }
 ],
 "metadata": {
  "kernelspec": {
   "display_name": "Python 3 (ipykernel)",
   "language": "python",
   "name": "python3"
  },
  "language_info": {
   "codemirror_mode": {
    "name": "ipython",
    "version": 3
   },
   "file_extension": ".py",
   "mimetype": "text/x-python",
   "name": "python",
   "nbconvert_exporter": "python",
   "pygments_lexer": "ipython3",
   "version": "3.11.13"
  }
 },
 "nbformat": 4,
 "nbformat_minor": 5
}
