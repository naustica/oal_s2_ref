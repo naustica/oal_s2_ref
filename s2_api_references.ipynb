{
 "cells": [
  {
   "cell_type": "code",
   "execution_count": 4,
   "id": "45c6e3c5-3d38-4bea-b09d-92d291393bf6",
   "metadata": {},
   "outputs": [],
   "source": [
    "import requests\n",
    "import json"
   ]
  },
  {
   "cell_type": "code",
   "execution_count": 20,
   "id": "9ea4e00e-37dd-4ebf-b42b-275c865101a3",
   "metadata": {},
   "outputs": [],
   "source": [
    "r = requests.post(\n",
    "    'https://api.semanticscholar.org/graph/v1/paper/batch',\n",
    "    params={'fields': 'referenceCount,title,references,year'},\n",
    "    json={\"ids\": [\"CorpusId:182071621\"]}\n",
    ")"
   ]
  },
  {
   "cell_type": "code",
   "execution_count": 21,
   "id": "9b22fcfd-80da-40e8-8a74-8d0cc1ab400e",
   "metadata": {},
   "outputs": [
    {
     "name": "stdout",
     "output_type": "stream",
     "text": [
      "[\n",
      "  {\n",
      "    \"paperId\": \"a82b35597de8a3a9879f87fede998cfc4281cafc\",\n",
      "    \"title\": \"DEVELOPMENT OF INFORMAL SECTOR IN TAMANSARI HERITAGE AREA YOGYAKARTA\",\n",
      "    \"year\": 2018,\n",
      "    \"referenceCount\": 7,\n",
      "    \"openAccessPdf\": {\n",
      "      \"url\": \"\",\n",
      "      \"status\": null,\n",
      "      \"license\": null\n",
      "    },\n",
      "    \"authors\": [\n",
      "      {\n",
      "        \"authorId\": \"2099222475\",\n",
      "        \"name\": \"Septiawan Bagus Panglipur\"\n",
      "      },\n",
      "      {\n",
      "        \"authorId\": \"2097051648\",\n",
      "        \"name\": \"S. Y. Amijaya\"\n",
      "      }\n",
      "    ],\n",
      "    \"references\": null\n",
      "  }\n",
      "]\n"
     ]
    }
   ],
   "source": [
    "print(json.dumps(r.json(), indent=2))"
   ]
  },
  {
   "cell_type": "code",
   "execution_count": 68,
   "id": "f03e9529-2308-449a-a113-af293bea5fe9",
   "metadata": {},
   "outputs": [],
   "source": [
    "r = requests.post(\n",
    "    'https://api.semanticscholar.org/graph/v1/paper/batch',\n",
    "    params={'fields': 'referenceCount,title,references,year'},\n",
    "    json={\"ids\": [\"CorpusId:83777797\"]}\n",
    ")"
   ]
  },
  {
   "cell_type": "code",
   "execution_count": 69,
   "id": "8961c5b3-370d-4126-8f78-9e5fb86412a5",
   "metadata": {},
   "outputs": [
    {
     "name": "stdout",
     "output_type": "stream",
     "text": [
      "[\n",
      "  {\n",
      "    \"paperId\": \"a99b6ab170b2ede5c735d4566329a6cfad2dddc8\",\n",
      "    \"title\": \"Effects on ground vegetation of the application of wood ash to a Swedish Scots pine stand\",\n",
      "    \"year\": 2001,\n",
      "    \"referenceCount\": 18,\n",
      "    \"openAccessPdf\": {\n",
      "      \"url\": \"\",\n",
      "      \"status\": \"CLOSED\",\n",
      "      \"license\": null,\n",
      "      \"disclaimer\": \"Notice: The following paper fields have been elided by the publisher: {'references'}. Paper or abstract available at https://api.unpaywall.org/v2/10.1078/1439-1791-00050?email=<INSERT_YOUR_EMAIL> or https://doi.org/10.1078/1439-1791-00050, which is subject to the license by the author or copyright owner provided with this content. Please go to the source to verify the license and copyright information for your use.\"\n",
      "    },\n",
      "    \"authors\": [\n",
      "      {\n",
      "        \"authorId\": \"2036584280\",\n",
      "        \"name\": \"Staffan Jacobson\"\n",
      "      },\n",
      "      {\n",
      "        \"authorId\": \"46832542\",\n",
      "        \"name\": \"L. Gustafsson\"\n",
      "      }\n",
      "    ],\n",
      "    \"references\": null\n",
      "  }\n",
      "]\n"
     ]
    }
   ],
   "source": [
    "print(json.dumps(r.json(), indent=2))"
   ]
  },
  {
   "cell_type": "code",
   "execution_count": 70,
   "id": "ceb8acdb-f733-412b-8cd8-02e9c3e23663",
   "metadata": {},
   "outputs": [],
   "source": [
    "r = requests.get(\n",
    "    'https://api.crossref.org/works/10.1078/1439-1791-00050?mailto=nick.haupka@sub.uni-goettingen.de'\n",
    ")"
   ]
  },
  {
   "cell_type": "code",
   "execution_count": 60,
   "id": "61e9b49a-51b1-4eba-8fde-1a88c8f494ae",
   "metadata": {},
   "outputs": [
    {
     "data": {
      "text/plain": [
       "31"
      ]
     },
     "execution_count": 60,
     "metadata": {},
     "output_type": "execute_result"
    }
   ],
   "source": [
    "r.json().get('message').get('reference-count')"
   ]
  },
  {
   "cell_type": "code",
   "execution_count": 61,
   "id": "75bf7acf-4baa-42c7-b49c-24b118286517",
   "metadata": {},
   "outputs": [
    {
     "data": {
      "text/plain": [
       "31"
      ]
     },
     "execution_count": 61,
     "metadata": {},
     "output_type": "execute_result"
    }
   ],
   "source": [
    "len(r.json().get('message').get('reference'))"
   ]
  },
  {
   "cell_type": "code",
   "execution_count": 50,
   "id": "b829cf33-6139-41e2-a7f1-4ab7a62cd79f",
   "metadata": {},
   "outputs": [],
   "source": [
    "r = requests.post(\n",
    "    'https://api.semanticscholar.org/graph/v1/paper/batch',\n",
    "    params={'fields': 'referenceCount,title,references,year'},\n",
    "    json={\"ids\": [\"CorpusId:267312566\"]}\n",
    ")"
   ]
  },
  {
   "cell_type": "code",
   "execution_count": 52,
   "id": "9d4f599f-3f26-4e5e-bc9d-624e2c35984d",
   "metadata": {},
   "outputs": [
    {
     "name": "stdout",
     "output_type": "stream",
     "text": [
      "[\n",
      "  {\n",
      "    \"paperId\": \"572c3c6441152846f8158189e0e42120408c9e85\",\n",
      "    \"title\": \"Reference Coverage Analysis of OpenAlex compared to Web of Science and Scopus\",\n",
      "    \"year\": 2024,\n",
      "    \"referenceCount\": 33,\n",
      "    \"openAccessPdf\": {\n",
      "      \"url\": \"https://doi.org/10.1007/s11192-025-05293-3\",\n",
      "      \"status\": \"HYBRID\",\n",
      "      \"license\": \"CCBY\",\n",
      "      \"disclaimer\": \"Notice: Paper or abstract available at https://arxiv.org/abs/2401.16359, which is subject to the license by the author or copyright owner provided with this content. Please go to the source to verify the license and copyright information for your use.\"\n",
      "    },\n",
      "    \"authors\": [\n",
      "      {\n",
      "        \"authorId\": \"2281746162\",\n",
      "        \"name\": \"Jack H. Culbert\"\n",
      "      },\n",
      "      {\n",
      "        \"authorId\": \"121128637\",\n",
      "        \"name\": \"A. Hobert\"\n",
      "      },\n",
      "      {\n",
      "        \"authorId\": \"2930708\",\n",
      "        \"name\": \"N. Jahn\"\n",
      "      },\n",
      "      {\n",
      "        \"authorId\": \"2281747080\",\n",
      "        \"name\": \"Nick Haupka\"\n",
      "      },\n",
      "      {\n",
      "        \"authorId\": \"2282528947\",\n",
      "        \"name\": \"Marion Schmidt\"\n",
      "      },\n",
      "      {\n",
      "        \"authorId\": \"35186734\",\n",
      "        \"name\": \"P. Donner\"\n",
      "      },\n",
      "      {\n",
      "        \"authorId\": \"2281747590\",\n",
      "        \"name\": \"Philipp Mayr\"\n",
      "      }\n",
      "    ],\n",
      "    \"references\": [\n",
      "      {\n",
      "        \"paperId\": \"b89a89a90a44c55cae1361f4b9c4c434ff792dd8\",\n",
      "        \"title\": \"The Data Infrastructure of the German Kompetenznetzwerk Bibliometrie: An Enabling Intermediary between Raw Data and Analysis\"\n",
      "      },\n",
      "      {\n",
      "        \"paperId\": \"10beb04e1ea5ce95c089db8b6074f13921e371ae\",\n",
      "        \"title\": \"Evaluating the linguistic coverage of OpenAlex: An assessment of metadata accuracy and completeness\"\n",
      "      },\n",
      "      {\n",
      "        \"paperId\": \"2f1db3d7ef1327f3d459767db76b28568e000bee\",\n",
      "        \"title\": \"Bilateral flows and rates of international migration of scholars for 210 countries for the period 1998-2020\"\n",
      "      },\n",
      "      {\n",
      "        \"paperId\": \"69ccbac38eb653855bc4076e9fd4b86ba5659e59\",\n",
      "        \"title\": \"biblioverlap: an R package for document matching across bibliographic datasets\"\n",
      "      },\n",
      "      {\n",
      "        \"paperId\": \"1da0817570a9dd70aaabf1c9fd82647be1515da2\",\n",
      "        \"title\": \"An open-source tool for merging data from multiple citation databases\"\n",
      "      },\n",
      "      {\n",
      "        \"paperId\": \"e8cbdb564db31540eceade274a310495a5ce148f\",\n",
      "        \"title\": \"An analysis of the suitability of OpenAlex for bibliometric analyses\"\n",
      "      },\n",
      "      {\n",
      "        \"paperId\": \"c815af57b398e9a29c7f333034c59c6c49a1263f\",\n",
      "        \"title\": \"The open access coverage of OpenAlex, Scopus and Web of Science\"\n",
      "      },\n",
      "      {\n",
      "        \"paperId\": \"882828a875a4a4e13e5d363f50b80b66d5139019\",\n",
      "        \"title\": \"(Non-)retracted academic papers in OpenAlex\"\n",
      "      },\n",
      "      {\n",
      "        \"paperId\": \"e500dadc9fe181bf2659707b94aef95a8e1c159e\",\n",
      "        \"title\": \"Completeness degree of publication metadata in eight free-access scholarly databases\"\n",
      "      },\n",
      "      {\n",
      "        \"paperId\": \"9ca1243f93e855c5111cb8d0b0f6e44513e8cc27\",\n",
      "        \"title\": \"Protect our environment from information overload.\"\n",
      "      },\n",
      "      {\n",
      "        \"paperId\": \"3a5f6f48d96b31da36ef2630bfd1e400e0a4469f\",\n",
      "        \"title\": \"Missing institutions in OpenAlex: possible reasons, implications, and solutions\"\n",
      "      },\n",
      "      {\n",
      "        \"paperId\": \"b6f6fb23777d93eaf6edda417664d5e678180bb1\",\n",
      "        \"title\": \"New trends in bibliometric APIs: A comparative analysis\"\n",
      "      },\n",
      "      {\n",
      "        \"paperId\": \"9e53ec23613e58b4ac91eb383be36d01f64a9167\",\n",
      "        \"title\": \"Global flows and rates of international migration of scholars\"\n",
      "      },\n",
      "      {\n",
      "        \"paperId\": \"4dd81921844c886729751aec825ee86c849ce3fb\",\n",
      "        \"title\": \"The availability and completeness of open funder metadata: Case study for publications funded by the Dutch Research Council\"\n",
      "      },\n",
      "      {\n",
      "        \"paperId\": \"907becd3767739ee105bf749ac70b00be89aa13c\",\n",
      "        \"title\": \"Comparison of metadata with relevance for bibliometrics between Microsoft Academic Graph and OpenAlex until 2020\"\n",
      "      },\n",
      "      {\n",
      "        \"paperId\": \"88b8569f4c5ea548e8eac6cb68896251e85ca879\",\n",
      "        \"title\": \"OpenAlex: A fully-open index of scholarly works, authors, venues, institutions, and concepts\"\n",
      "      },\n",
      "      {\n",
      "        \"paperId\": \"d3ce94ed4ae7784062808c485927177fc519e235\",\n",
      "        \"title\": \"Funding COVID-19 research: Insights from an exploratory analysis using open data infrastructures\"\n",
      "      },\n",
      "      {\n",
      "        \"paperId\": \"ddc071ee3dae345ba86b114c83288deec9fe08b9\",\n",
      "        \"title\": \"The journal coverage of Web of Science, Scopus and Dimensions: A comparative analysis\"\n",
      "      },\n",
      "      {\n",
      "        \"paperId\": \"e084f4021f30c483564dcccc29d1230ab213ce70\",\n",
      "        \"title\": \"Large-scale comparison of bibliographic data sources: Scopus, Web of Science, Dimensions, Crossref, and Microsoft Academic\"\n",
      "      },\n",
      "      {\n",
      "        \"paperId\": \"40885a8e7e1cf2f055054bab418aebb1c673db3b\",\n",
      "        \"title\": \"Google Scholar, Microsoft Academic, Scopus, Dimensions, Web of Science, and OpenCitations\\u2019 COCI: a multidisciplinary comparison of coverage via citations\"\n",
      "      },\n",
      "      {\n",
      "        \"paperId\": \"e48055e54b6c80661d59b6cba16115661e4d3377\",\n",
      "        \"title\": \"Google Scholar, Web of Science, and Scopus: a systematic comparison of citations in 252 subject categories\"\n",
      "      },\n",
      "      {\n",
      "        \"paperId\": \"41509dedfbd48d84f09c627df013f6c001ba8320\",\n",
      "        \"title\": \"How Unpaywall is transforming open science\"\n",
      "      },\n",
      "      {\n",
      "        \"paperId\": \"991af541a4fdcfde71077015def28015fe729c10\",\n",
      "        \"title\": \"Evaluation of the citation matching algorithms of CWTS and iFQ in comparison to the Web of science\"\n",
      "      },\n",
      "      {\n",
      "        \"paperId\": \"6825bb133a21e683b7cd746a01ac4f36927d4c1d\",\n",
      "        \"title\": \"Errors in DOI indexing by bibliometric databases\"\n",
      "      },\n",
      "      {\n",
      "        \"paperId\": \"a524a4a950838b39ac633a3431336b46e6210df4\",\n",
      "        \"title\": \"ORCID: a system to uniquely identify researchers\"\n",
      "      },\n",
      "      {\n",
      "        \"paperId\": \"124bfd7ab38b5f4c8d1f9697a65dd92919182593\",\n",
      "        \"title\": \"Which Publications' Metadata Are in Which Bibliographic Databases? A System for Exploration\"\n",
      "      },\n",
      "      {\n",
      "        \"paperId\": \"6457dd8dd6781a379d22427410927e89ff8a8670\",\n",
      "        \"title\": \"Measuring Science: Basic Principles and Application of Advanced Bibliometrics\"\n",
      "      },\n",
      "      {\n",
      "        \"paperId\": \"00be12552ede0d2c4b5064f845941d06906a7257\",\n",
      "        \"title\": \"Citation Analysis in Research Evaluation\"\n",
      "      },\n",
      "      {\n",
      "        \"paperId\": \"c0f4ee33bb4d38eec800b07cfb4b7f631c8a8694\",\n",
      "        \"title\": \"Quantitative comparison of publication metadata in eight free-access databases\"\n",
      "      },\n",
      "      {\n",
      "        \"paperId\": null,\n",
      "        \"title\": \"Reference Coverage Analysis of OpenAlex compared to Web of Science and Scopus\"\n",
      "      },\n",
      "      {\n",
      "        \"paperId\": null,\n",
      "        \"title\": \"I4oa hall of fame - 2023 edition\"\n",
      "      },\n",
      "      {\n",
      "        \"paperId\": null,\n",
      "        \"title\": \"Crossref as a source of open bibliographic metadata (2023\"\n",
      "      },\n",
      "      {\n",
      "        \"paperId\": null,\n",
      "        \"title\": \"Ho(cid:32)lyst\"\n",
      "      }\n",
      "    ]\n",
      "  }\n",
      "]\n"
     ]
    }
   ],
   "source": [
    "print(json.dumps(r.json(), indent=2))"
   ]
  },
  {
   "cell_type": "code",
   "execution_count": 55,
   "id": "f21b32d0-d6dc-4978-8c22-dbd228957160",
   "metadata": {},
   "outputs": [
    {
     "data": {
      "text/plain": [
       "33"
      ]
     },
     "execution_count": 55,
     "metadata": {},
     "output_type": "execute_result"
    }
   ],
   "source": [
    "r.json()[0].get('referenceCount')"
   ]
  },
  {
   "cell_type": "code",
   "execution_count": 54,
   "id": "1540febc-5a3a-4e3f-8e3e-d1f3d01230ce",
   "metadata": {},
   "outputs": [
    {
     "data": {
      "text/plain": [
       "33"
      ]
     },
     "execution_count": 54,
     "metadata": {},
     "output_type": "execute_result"
    }
   ],
   "source": [
    "len(r.json()[0].get('references'))"
   ]
  },
  {
   "cell_type": "code",
   "execution_count": 40,
   "id": "0316a80b-7e8d-43b6-b828-e03b24437cd3",
   "metadata": {},
   "outputs": [],
   "source": [
    "r = requests.get(\n",
    "    'https://api.crossref.org/works/10.1007/s11192-025-05293-3?mailto=nick.haupka@sub.uni-goettingen.de'\n",
    ")"
   ]
  },
  {
   "cell_type": "code",
   "execution_count": 48,
   "id": "bad8c920-3451-45d8-a7db-1b552e32e6a6",
   "metadata": {},
   "outputs": [
    {
     "data": {
      "text/plain": [
       "29"
      ]
     },
     "execution_count": 48,
     "metadata": {},
     "output_type": "execute_result"
    }
   ],
   "source": [
    "r.json().get('message').get('reference-count')"
   ]
  },
  {
   "cell_type": "code",
   "execution_count": 49,
   "id": "5d71a129-a0fb-4584-b95e-b8e1ee5ffd8a",
   "metadata": {},
   "outputs": [
    {
     "data": {
      "text/plain": [
       "29"
      ]
     },
     "execution_count": 49,
     "metadata": {},
     "output_type": "execute_result"
    }
   ],
   "source": [
    "len(r.json().get('message').get('reference'))"
   ]
  },
  {
   "cell_type": "code",
   "execution_count": null,
   "id": "ae42188c-326d-4898-972a-1e9335db5bea",
   "metadata": {},
   "outputs": [],
   "source": []
  }
 ],
 "metadata": {
  "kernelspec": {
   "display_name": "Python 3 (ipykernel)",
   "language": "python",
   "name": "python3"
  },
  "language_info": {
   "codemirror_mode": {
    "name": "ipython",
    "version": 3
   },
   "file_extension": ".py",
   "mimetype": "text/x-python",
   "name": "python",
   "nbconvert_exporter": "python",
   "pygments_lexer": "ipython3",
   "version": "3.11.13"
  }
 },
 "nbformat": 4,
 "nbformat_minor": 5
}
