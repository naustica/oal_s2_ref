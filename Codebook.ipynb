{
 "cells": [
  {
   "cell_type": "code",
   "execution_count": 1,
   "id": "50f3b5b5-d414-48cd-9903-b7d9c7ffd80a",
   "metadata": {},
   "outputs": [],
   "source": [
    "from google.cloud import bigquery\n",
    "import pandas as pd\n",
    "import matplotlib.pyplot as plt\n",
    "from matplotlib_venn import venn2, venn2_circles\n",
    "import seaborn as sns\n",
    "import matplotlib.ticker as mtick\n",
    "import matplotlib.patches as mpatches\n",
    "from matplotlib.lines import Line2D"
   ]
  },
  {
   "cell_type": "code",
   "execution_count": 2,
   "id": "428e6adf-1bff-45e9-8ba7-e023acd0b6a8",
   "metadata": {},
   "outputs": [],
   "source": [
    "client = bigquery.Client(project='subugoe-collaborative')"
   ]
  },
  {
   "cell_type": "code",
   "execution_count": 3,
   "id": "ef855462-67d3-494f-9bca-3dc0c71cfe9c",
   "metadata": {},
   "outputs": [],
   "source": [
    "s2ag_papers = 'subugoe-collaborative.semantic_scholar.papers'\n",
    "s2ag_venues = 'subugoe-collaborative.semantic_scholar.venues'\n",
    "openalex_snapshot = 'subugoe-collaborative.openalex.works'\n",
    "cr_snapshot = 'subugoe-collaborative.cr_instant.snapshot'"
   ]
  },
  {
   "cell_type": "code",
   "execution_count": 4,
   "id": "e8baa7ad-5d0a-4c5d-8958-a0e50c25dcd6",
   "metadata": {},
   "outputs": [],
   "source": [
    "sns.set_style('whitegrid')\n",
    "plt.rc('font', family='Arial')\n",
    "plt.rc('font', size=9) \n",
    "plt.rc('axes', titlesize=9) \n",
    "plt.rc('axes', labelsize=9) \n",
    "plt.rc('xtick', labelsize=9) \n",
    "plt.rc('ytick', labelsize=9) \n",
    "plt.rc('legend', fontsize=9)"
   ]
  },
  {
   "cell_type": "code",
   "execution_count": 34,
   "id": "7db4e92a-929a-49f2-bbfa-1e8b08700718",
   "metadata": {},
   "outputs": [],
   "source": [
    "oal_c = client.query(f\"\"\"\n",
    "                    SELECT COUNT(DISTINCT(oal.doi)) AS n\n",
    "                    FROM {openalex_snapshot} AS oal\n",
    "                    WHERE oal.publication_year BETWEEN 2015 AND 2023 AND oal.primary_location.source.type = 'journal'\n",
    "                        AND oal.type='article' AND is_paratext=False AND is_retracted=False\n",
    "                    \"\"\").to_dataframe()"
   ]
  },
  {
   "cell_type": "code",
   "execution_count": 35,
   "id": "0e81f5f0-3785-4e3d-ba4f-fbec78d15480",
   "metadata": {},
   "outputs": [
    {
     "data": {
      "text/html": [
       "<div>\n",
       "<style scoped>\n",
       "    .dataframe tbody tr th:only-of-type {\n",
       "        vertical-align: middle;\n",
       "    }\n",
       "\n",
       "    .dataframe tbody tr th {\n",
       "        vertical-align: top;\n",
       "    }\n",
       "\n",
       "    .dataframe thead th {\n",
       "        text-align: right;\n",
       "    }\n",
       "</style>\n",
       "<table border=\"1\" class=\"dataframe\">\n",
       "  <thead>\n",
       "    <tr style=\"text-align: right;\">\n",
       "      <th></th>\n",
       "      <th>n</th>\n",
       "    </tr>\n",
       "  </thead>\n",
       "  <tbody>\n",
       "    <tr>\n",
       "      <th>0</th>\n",
       "      <td>39489401</td>\n",
       "    </tr>\n",
       "  </tbody>\n",
       "</table>\n",
       "</div>"
      ],
      "text/plain": [
       "          n\n",
       "0  39489401"
      ]
     },
     "execution_count": 35,
     "metadata": {},
     "output_type": "execute_result"
    }
   ],
   "source": [
    "oal_c"
   ]
  },
  {
   "cell_type": "code",
   "execution_count": 36,
   "id": "8153aa93-c7de-4fc3-93b8-debe14410833",
   "metadata": {},
   "outputs": [],
   "source": [
    "s2_c = client.query(f\"\"\"\n",
    "                    SELECT COUNT(DISTINCT(externalids.DOI)) AS n\n",
    "                    FROM {s2ag_papers} AS s2, UNNEST(publicationtypes) AS ptype\n",
    "                    WHERE s2.year BETWEEN 2015 AND 2023 AND ptype = 'JournalArticle'\n",
    "                    \"\"\").to_dataframe()"
   ]
  },
  {
   "cell_type": "code",
   "execution_count": 37,
   "id": "34de807c-edbe-4eba-8f68-d69efd062c4e",
   "metadata": {},
   "outputs": [
    {
     "data": {
      "text/html": [
       "<div>\n",
       "<style scoped>\n",
       "    .dataframe tbody tr th:only-of-type {\n",
       "        vertical-align: middle;\n",
       "    }\n",
       "\n",
       "    .dataframe tbody tr th {\n",
       "        vertical-align: top;\n",
       "    }\n",
       "\n",
       "    .dataframe thead th {\n",
       "        text-align: right;\n",
       "    }\n",
       "</style>\n",
       "<table border=\"1\" class=\"dataframe\">\n",
       "  <thead>\n",
       "    <tr style=\"text-align: right;\">\n",
       "      <th></th>\n",
       "      <th>n</th>\n",
       "    </tr>\n",
       "  </thead>\n",
       "  <tbody>\n",
       "    <tr>\n",
       "      <th>0</th>\n",
       "      <td>17271906</td>\n",
       "    </tr>\n",
       "  </tbody>\n",
       "</table>\n",
       "</div>"
      ],
      "text/plain": [
       "          n\n",
       "0  17271906"
      ]
     },
     "execution_count": 37,
     "metadata": {},
     "output_type": "execute_result"
    }
   ],
   "source": [
    "s2_c"
   ]
  },
  {
   "cell_type": "code",
   "execution_count": 22,
   "id": "b6cc633d-d84d-4a75-ae43-77bd4f2621d7",
   "metadata": {},
   "outputs": [],
   "source": [
    "cr_c = client.query(f\"\"\"\n",
    "                    SELECT COUNT(DISTINCT(cr.doi)) AS n\n",
    "                    FROM {cr_snapshot} AS cr\n",
    "                    LEFT JOIN {openalex_snapshot} AS oal\n",
    "                        ON LOWER(cr.doi) = LOWER(oal.doi)\n",
    "                    LEFT JOIN {s2ag_papers} AS s2\n",
    "                        ON LOWER(cr.doi) = LOWER(s2.externalids.DOI)\n",
    "                    WHERE cr.type = 'journal-article' AND issued >= '2015-01-01' \n",
    "                        AND issued < '2024-01-01' AND issued IS NOT NULL AND s2.externalids.DOI IS NULL AND oal.doi IS NULL\n",
    "                    \"\"\").to_dataframe()"
   ]
  },
  {
   "cell_type": "code",
   "execution_count": 23,
   "id": "bae158a2-1e85-4727-95a6-1b9262f5610b",
   "metadata": {},
   "outputs": [
    {
     "data": {
      "text/html": [
       "<div>\n",
       "<style scoped>\n",
       "    .dataframe tbody tr th:only-of-type {\n",
       "        vertical-align: middle;\n",
       "    }\n",
       "\n",
       "    .dataframe tbody tr th {\n",
       "        vertical-align: top;\n",
       "    }\n",
       "\n",
       "    .dataframe thead th {\n",
       "        text-align: right;\n",
       "    }\n",
       "</style>\n",
       "<table border=\"1\" class=\"dataframe\">\n",
       "  <thead>\n",
       "    <tr style=\"text-align: right;\">\n",
       "      <th></th>\n",
       "      <th>n</th>\n",
       "    </tr>\n",
       "  </thead>\n",
       "  <tbody>\n",
       "    <tr>\n",
       "      <th>0</th>\n",
       "      <td>8973</td>\n",
       "    </tr>\n",
       "  </tbody>\n",
       "</table>\n",
       "</div>"
      ],
      "text/plain": [
       "      n\n",
       "0  8973"
      ]
     },
     "execution_count": 23,
     "metadata": {},
     "output_type": "execute_result"
    }
   ],
   "source": [
    "cr_c"
   ]
  },
  {
   "cell_type": "code",
   "execution_count": 24,
   "id": "8cc18e9a-8b4c-4179-83ac-ac6f25a473d7",
   "metadata": {},
   "outputs": [],
   "source": [
    "oal_s2_cr_c = client.query(f\"\"\"\n",
    "                            SELECT COUNT(DISTINCT(oal.doi)) AS n\n",
    "                            FROM {s2ag_papers} AS s2, UNNEST(publicationtypes) AS ptype\n",
    "                            JOIN {openalex_snapshot} AS oal\n",
    "                                ON LOWER(oal.doi) = LOWER(s2.externalids.DOI)\n",
    "                            JOIN {cr_snapshot} AS cr\n",
    "                                    ON LOWER(oal.doi) = LOWER(cr.doi)\n",
    "                            WHERE oal.publication_year BETWEEN 2015 AND 2023 AND oal.primary_location.source.type = 'journal'\n",
    "                                AND oal.type='article' AND ptype='JournalArticle' AND cr.type='journal-article' AND is_paratext=False AND is_retracted=False\n",
    "                            \"\"\").to_dataframe()"
   ]
  },
  {
   "cell_type": "code",
   "execution_count": 25,
   "id": "206bc1df-9f33-4e7c-800f-7543ba765614",
   "metadata": {},
   "outputs": [
    {
     "data": {
      "text/html": [
       "<div>\n",
       "<style scoped>\n",
       "    .dataframe tbody tr th:only-of-type {\n",
       "        vertical-align: middle;\n",
       "    }\n",
       "\n",
       "    .dataframe tbody tr th {\n",
       "        vertical-align: top;\n",
       "    }\n",
       "\n",
       "    .dataframe thead th {\n",
       "        text-align: right;\n",
       "    }\n",
       "</style>\n",
       "<table border=\"1\" class=\"dataframe\">\n",
       "  <thead>\n",
       "    <tr style=\"text-align: right;\">\n",
       "      <th></th>\n",
       "      <th>n</th>\n",
       "    </tr>\n",
       "  </thead>\n",
       "  <tbody>\n",
       "    <tr>\n",
       "      <th>0</th>\n",
       "      <td>14865259</td>\n",
       "    </tr>\n",
       "  </tbody>\n",
       "</table>\n",
       "</div>"
      ],
      "text/plain": [
       "          n\n",
       "0  14865259"
      ]
     },
     "execution_count": 25,
     "metadata": {},
     "output_type": "execute_result"
    }
   ],
   "source": [
    "oal_s2_cr_c"
   ]
  },
  {
   "cell_type": "code",
   "execution_count": 38,
   "id": "6d0abc31-f9ef-4b97-95da-47344c17c79e",
   "metadata": {},
   "outputs": [],
   "source": [
    "oal_s2_c = client.query(f\"\"\"\n",
    "                         SELECT COUNT(DISTINCT(oal.doi)) AS n\n",
    "                         FROM {s2ag_papers} AS s2, UNNEST(publicationtypes) AS ptype\n",
    "                         JOIN {openalex_snapshot} AS oal\n",
    "                             ON LOWER(oal.doi) = LOWER(s2.externalids.DOI)\n",
    "                         WHERE oal.publication_year BETWEEN 2015 AND 2023 AND oal.primary_location.source.type = 'journal'\n",
    "                             AND oal.type='article' AND ptype='JournalArticle' AND is_paratext=False\n",
    "                         \"\"\").to_dataframe()"
   ]
  },
  {
   "cell_type": "code",
   "execution_count": 39,
   "id": "5a361ff0-8de8-451a-96e0-3240dce6602a",
   "metadata": {},
   "outputs": [
    {
     "data": {
      "text/html": [
       "<div>\n",
       "<style scoped>\n",
       "    .dataframe tbody tr th:only-of-type {\n",
       "        vertical-align: middle;\n",
       "    }\n",
       "\n",
       "    .dataframe tbody tr th {\n",
       "        vertical-align: top;\n",
       "    }\n",
       "\n",
       "    .dataframe thead th {\n",
       "        text-align: right;\n",
       "    }\n",
       "</style>\n",
       "<table border=\"1\" class=\"dataframe\">\n",
       "  <thead>\n",
       "    <tr style=\"text-align: right;\">\n",
       "      <th></th>\n",
       "      <th>n</th>\n",
       "    </tr>\n",
       "  </thead>\n",
       "  <tbody>\n",
       "    <tr>\n",
       "      <th>0</th>\n",
       "      <td>14903892</td>\n",
       "    </tr>\n",
       "  </tbody>\n",
       "</table>\n",
       "</div>"
      ],
      "text/plain": [
       "          n\n",
       "0  14903892"
      ]
     },
     "execution_count": 39,
     "metadata": {},
     "output_type": "execute_result"
    }
   ],
   "source": [
    "oal_s2_c"
   ]
  },
  {
   "cell_type": "code",
   "execution_count": 26,
   "id": "47c66252-0a8d-42e8-babd-1ec7a3eba19e",
   "metadata": {},
   "outputs": [],
   "source": [
    "oal_cr_c = client.query(f\"\"\"\n",
    "                         SELECT COUNT(DISTINCT(oal.doi)) AS n\n",
    "                         FROM {openalex_snapshot} AS oal\n",
    "                         JOIN {cr_snapshot} AS cr\n",
    "                             ON LOWER(oal.doi) = LOWER(cr.doi)\n",
    "                         LEFT JOIN {s2ag_papers} AS s2\n",
    "                             ON LOWER(oal.doi) = LOWER(s2.externalids.DOI)\n",
    "                         WHERE oal.publication_year BETWEEN 2015 AND 2023 AND oal.primary_location.source.type = 'journal'\n",
    "                             AND oal.type='article' AND cr.type='journal-article' AND is_paratext=False AND is_retracted=False AND s2.externalids.DOI IS NULL\n",
    "                         \"\"\").to_dataframe()"
   ]
  },
  {
   "cell_type": "code",
   "execution_count": 27,
   "id": "0eeb698e-33e3-4654-8b9f-9df8ba345366",
   "metadata": {},
   "outputs": [
    {
     "data": {
      "text/html": [
       "<div>\n",
       "<style scoped>\n",
       "    .dataframe tbody tr th:only-of-type {\n",
       "        vertical-align: middle;\n",
       "    }\n",
       "\n",
       "    .dataframe tbody tr th {\n",
       "        vertical-align: top;\n",
       "    }\n",
       "\n",
       "    .dataframe thead th {\n",
       "        text-align: right;\n",
       "    }\n",
       "</style>\n",
       "<table border=\"1\" class=\"dataframe\">\n",
       "  <thead>\n",
       "    <tr style=\"text-align: right;\">\n",
       "      <th></th>\n",
       "      <th>n</th>\n",
       "    </tr>\n",
       "  </thead>\n",
       "  <tbody>\n",
       "    <tr>\n",
       "      <th>0</th>\n",
       "      <td>2066548</td>\n",
       "    </tr>\n",
       "  </tbody>\n",
       "</table>\n",
       "</div>"
      ],
      "text/plain": [
       "         n\n",
       "0  2066548"
      ]
     },
     "execution_count": 27,
     "metadata": {},
     "output_type": "execute_result"
    }
   ],
   "source": [
    "oal_cr_c"
   ]
  },
  {
   "cell_type": "code",
   "execution_count": 28,
   "id": "be4f6df0-d327-4ebe-a7be-ba1c773b9682",
   "metadata": {},
   "outputs": [],
   "source": [
    "s2_cr_c = client.query(f\"\"\"\n",
    "                         SELECT COUNT(DISTINCT(s2.externalids.DOI)) AS n\n",
    "                         FROM {s2ag_papers} AS s2, UNNEST(publicationtypes) AS ptype\n",
    "                         JOIN {cr_snapshot} AS cr\n",
    "                             ON LOWER(s2.externalids.DOI) = LOWER(cr.doi)\n",
    "                         LEFT JOIN {openalex_snapshot} AS oal\n",
    "                             ON LOWER(s2.externalids.DOI) = LOWER(oal.doi)\n",
    "                         WHERE s2.year BETWEEN 2015 AND 2023 AND ptype = 'JournalArticle' AND oal.doi IS NULL\n",
    "                         \"\"\").to_dataframe()"
   ]
  },
  {
   "cell_type": "code",
   "execution_count": 29,
   "id": "a22da7ae-94ea-4aab-9d98-353f42464d9b",
   "metadata": {},
   "outputs": [
    {
     "data": {
      "text/html": [
       "<div>\n",
       "<style scoped>\n",
       "    .dataframe tbody tr th:only-of-type {\n",
       "        vertical-align: middle;\n",
       "    }\n",
       "\n",
       "    .dataframe tbody tr th {\n",
       "        vertical-align: top;\n",
       "    }\n",
       "\n",
       "    .dataframe thead th {\n",
       "        text-align: right;\n",
       "    }\n",
       "</style>\n",
       "<table border=\"1\" class=\"dataframe\">\n",
       "  <thead>\n",
       "    <tr style=\"text-align: right;\">\n",
       "      <th></th>\n",
       "      <th>n</th>\n",
       "    </tr>\n",
       "  </thead>\n",
       "  <tbody>\n",
       "    <tr>\n",
       "      <th>0</th>\n",
       "      <td>1534</td>\n",
       "    </tr>\n",
       "  </tbody>\n",
       "</table>\n",
       "</div>"
      ],
      "text/plain": [
       "      n\n",
       "0  1534"
      ]
     },
     "execution_count": 29,
     "metadata": {},
     "output_type": "execute_result"
    }
   ],
   "source": [
    "s2_cr_c"
   ]
  },
  {
   "cell_type": "code",
   "execution_count": 41,
   "id": "c0c67a3b-2aeb-4aa7-a75e-8cdced46822b",
   "metadata": {},
   "outputs": [
    {
     "data": {
      "image/png": "[encoded data removed]",
      "text/plain": [
       "<Figure size 600x500 with 1 Axes>"
      ]
     },
     "metadata": {},
     "output_type": "display_data"
    }
   ],
   "source": [
    "fig, ax = plt.subplots(figsize=(6,5))\n",
    "\n",
    "subsets = (39489401-14903892, 17271906-14903892, 14903892)\n",
    "\n",
    "out = venn2(subsets=subsets, \n",
    "      set_labels=('OpenAlex', 'Semantic Scholar'),\n",
    "      set_colors=('white', 'white'),\n",
    "      alpha=0.7)\n",
    "\n",
    "venn2_circles(subsets=subsets, \n",
    "              linewidth=0.5)\n",
    "\n",
    "for text in out.set_labels:\n",
    "    text.set_font('Arial')\n",
    "    text.set_fontsize(10)\n",
    "    text.set_fontweight('bold')\n",
    "for text in out.subset_labels:\n",
    "    text.set_font('Arial')\n",
    "    text.set_fontsize(9)\n",
    "    s = int(text.get_text())\n",
    "    text.set_text(f\"{s:,}\")\n",
    "    \n",
    "plt.show()\n",
    "fig.savefig(f'media/venn_s2_oal.png', format='png', bbox_inches='tight', dpi=500)"
   ]
  },
  {
   "cell_type": "code",
   "execution_count": 40,
   "id": "49724af9-ff71-4bf0-ab98-69e4624cbfee",
   "metadata": {},
   "outputs": [],
   "source": [
    "oal_s2_ref_sum = client.query(f\"\"\"\n",
    "                                SELECT \n",
    "                                    SUM(ARRAY_LENGTH(oal.referenced_works)) AS oal_ref_sum, \n",
    "                                    SUM(s2.referencecount) AS s2_ref_sum\n",
    "                                FROM {openalex_snapshot} AS oal\n",
    "                                JOIN {s2ag_papers} AS s2\n",
    "                                    ON LOWER(oal.doi) = LOWER(s2.externalids.DOI)\n",
    "                                WHERE oal.publication_year BETWEEN 2015 AND 2023 AND oal.primary_location.source.type = 'journal'\n",
    "                                    AND type='article' AND is_paratext=False AND is_retracted=False\n",
    "                                \"\"\").to_dataframe()"
   ]
  },
  {
   "cell_type": "code",
   "execution_count": 41,
   "id": "10fdcd41-aa4c-45cd-86c1-a216190796f4",
   "metadata": {},
   "outputs": [
    {
     "data": {
      "text/html": [
       "<div>\n",
       "<style scoped>\n",
       "    .dataframe tbody tr th:only-of-type {\n",
       "        vertical-align: middle;\n",
       "    }\n",
       "\n",
       "    .dataframe tbody tr th {\n",
       "        vertical-align: top;\n",
       "    }\n",
       "\n",
       "    .dataframe thead th {\n",
       "        text-align: right;\n",
       "    }\n",
       "</style>\n",
       "<table border=\"1\" class=\"dataframe\">\n",
       "  <thead>\n",
       "    <tr style=\"text-align: right;\">\n",
       "      <th></th>\n",
       "      <th>oal_ref_sum</th>\n",
       "      <th>s2_ref_sum</th>\n",
       "    </tr>\n",
       "  </thead>\n",
       "  <tbody>\n",
       "    <tr>\n",
       "      <th>0</th>\n",
       "      <td>843794454</td>\n",
       "      <td>971610947</td>\n",
       "    </tr>\n",
       "  </tbody>\n",
       "</table>\n",
       "</div>"
      ],
      "text/plain": [
       "   oal_ref_sum  s2_ref_sum\n",
       "0    843794454   971610947"
      ]
     },
     "execution_count": 41,
     "metadata": {},
     "output_type": "execute_result"
    }
   ],
   "source": [
    "oal_s2_ref_sum"
   ]
  },
  {
   "cell_type": "code",
   "execution_count": 42,
   "id": "3cb3dd41-473e-4209-afd5-22187ef48c43",
   "metadata": {},
   "outputs": [],
   "source": [
    "oal_s2_ref_avg = client.query(f\"\"\"\n",
    "                                SELECT \n",
    "                                    AVG(ARRAY_LENGTH(oal.referenced_works)) AS oal_ref_avg, \n",
    "                                    AVG(s2.referencecount) AS s2_ref_avg\n",
    "                                FROM {openalex_snapshot} AS oal\n",
    "                                JOIN {s2ag_papers} AS s2\n",
    "                                    ON LOWER(oal.doi) = LOWER(s2.externalids.DOI)\n",
    "                                WHERE oal.publication_year BETWEEN 2015 AND 2023 AND oal.primary_location.source.type = 'journal'\n",
    "                                    AND type='article' AND is_paratext=False AND is_retracted=False\n",
    "                                \"\"\").to_dataframe()"
   ]
  },
  {
   "cell_type": "code",
   "execution_count": 43,
   "id": "48c226bb-1806-4ebb-8d3c-9c3a844a8a51",
   "metadata": {},
   "outputs": [
    {
     "data": {
      "text/html": [
       "<div>\n",
       "<style scoped>\n",
       "    .dataframe tbody tr th:only-of-type {\n",
       "        vertical-align: middle;\n",
       "    }\n",
       "\n",
       "    .dataframe tbody tr th {\n",
       "        vertical-align: top;\n",
       "    }\n",
       "\n",
       "    .dataframe thead th {\n",
       "        text-align: right;\n",
       "    }\n",
       "</style>\n",
       "<table border=\"1\" class=\"dataframe\">\n",
       "  <thead>\n",
       "    <tr style=\"text-align: right;\">\n",
       "      <th></th>\n",
       "      <th>oal_ref_avg</th>\n",
       "      <th>s2_ref_avg</th>\n",
       "    </tr>\n",
       "  </thead>\n",
       "  <tbody>\n",
       "    <tr>\n",
       "      <th>0</th>\n",
       "      <td>22.041301</td>\n",
       "      <td>25.380078</td>\n",
       "    </tr>\n",
       "  </tbody>\n",
       "</table>\n",
       "</div>"
      ],
      "text/plain": [
       "   oal_ref_avg  s2_ref_avg\n",
       "0    22.041301   25.380078"
      ]
     },
     "execution_count": 43,
     "metadata": {},
     "output_type": "execute_result"
    }
   ],
   "source": [
    "oal_s2_ref_avg"
   ]
  },
  {
   "cell_type": "code",
   "execution_count": 44,
   "id": "4dfb4d61-7135-4700-9ccf-c45615566578",
   "metadata": {},
   "outputs": [],
   "source": [
    "oal_ref_sum = client.query(f\"\"\"\n",
    "                            SELECT \n",
    "                                SUM(ARRAY_LENGTH(oal.referenced_works)) AS oal_ref_sum, \n",
    "                            FROM {openalex_snapshot} AS oal\n",
    "                            WHERE oal.publication_year BETWEEN 2015 AND 2023 AND oal.primary_location.source.type = 'journal'\n",
    "                                AND type='article' AND is_paratext=False AND is_retracted=False\n",
    "                            \"\"\").to_dataframe()"
   ]
  },
  {
   "cell_type": "code",
   "execution_count": 45,
   "id": "4bd72984-4d0d-4584-806f-d784b92dfc4e",
   "metadata": {},
   "outputs": [
    {
     "data": {
      "text/html": [
       "<div>\n",
       "<style scoped>\n",
       "    .dataframe tbody tr th:only-of-type {\n",
       "        vertical-align: middle;\n",
       "    }\n",
       "\n",
       "    .dataframe tbody tr th {\n",
       "        vertical-align: top;\n",
       "    }\n",
       "\n",
       "    .dataframe thead th {\n",
       "        text-align: right;\n",
       "    }\n",
       "</style>\n",
       "<table border=\"1\" class=\"dataframe\">\n",
       "  <thead>\n",
       "    <tr style=\"text-align: right;\">\n",
       "      <th></th>\n",
       "      <th>oal_ref_sum</th>\n",
       "    </tr>\n",
       "  </thead>\n",
       "  <tbody>\n",
       "    <tr>\n",
       "      <th>0</th>\n",
       "      <td>837992522</td>\n",
       "    </tr>\n",
       "  </tbody>\n",
       "</table>\n",
       "</div>"
      ],
      "text/plain": [
       "   oal_ref_sum\n",
       "0    837992522"
      ]
     },
     "execution_count": 45,
     "metadata": {},
     "output_type": "execute_result"
    }
   ],
   "source": [
    "oal_ref_sum"
   ]
  },
  {
   "cell_type": "code",
   "execution_count": 46,
   "id": "536d11c8-f9cb-4951-a9b3-62f0a6a2c879",
   "metadata": {},
   "outputs": [],
   "source": [
    "oal_ref_avg = client.query(f\"\"\"\n",
    "                            SELECT \n",
    "                                AVG(ARRAY_LENGTH(oal.referenced_works)) AS oal_ref_avg, \n",
    "                            FROM {openalex_snapshot} AS oal\n",
    "                            WHERE oal.publication_year BETWEEN 2015 AND 2023 AND oal.primary_location.source.type = 'journal'\n",
    "                                AND type='article' AND is_paratext=False AND is_retracted=False\n",
    "                            \"\"\").to_dataframe()"
   ]
  },
  {
   "cell_type": "code",
   "execution_count": 47,
   "id": "103b35fe-24df-4a7e-b9a0-fe3fac2a0c9d",
   "metadata": {},
   "outputs": [
    {
     "data": {
      "text/html": [
       "<div>\n",
       "<style scoped>\n",
       "    .dataframe tbody tr th:only-of-type {\n",
       "        vertical-align: middle;\n",
       "    }\n",
       "\n",
       "    .dataframe tbody tr th {\n",
       "        vertical-align: top;\n",
       "    }\n",
       "\n",
       "    .dataframe thead th {\n",
       "        text-align: right;\n",
       "    }\n",
       "</style>\n",
       "<table border=\"1\" class=\"dataframe\">\n",
       "  <thead>\n",
       "    <tr style=\"text-align: right;\">\n",
       "      <th></th>\n",
       "      <th>oal_ref_avg</th>\n",
       "    </tr>\n",
       "  </thead>\n",
       "  <tbody>\n",
       "    <tr>\n",
       "      <th>0</th>\n",
       "      <td>18.256696</td>\n",
       "    </tr>\n",
       "  </tbody>\n",
       "</table>\n",
       "</div>"
      ],
      "text/plain": [
       "   oal_ref_avg\n",
       "0    18.256696"
      ]
     },
     "execution_count": 47,
     "metadata": {},
     "output_type": "execute_result"
    }
   ],
   "source": [
    "oal_ref_avg"
   ]
  },
  {
   "cell_type": "code",
   "execution_count": 48,
   "id": "dcf67b7f-a333-4f24-986a-55aecb44f651",
   "metadata": {},
   "outputs": [],
   "source": [
    "s2_ref_sum = client.query(f\"\"\"\n",
    "                            SELECT \n",
    "                                SUM(s2.referencecount) AS s2_ref_sum\n",
    "                            FROM {s2ag_papers} AS s2, UNNEST(publicationtypes) AS ptype\n",
    "                            WHERE s2.year BETWEEN 2015 AND 2023 AND ptype = 'JournalArticle'\n",
    "                            \"\"\").to_dataframe()"
   ]
  },
  {
   "cell_type": "code",
   "execution_count": 49,
   "id": "b5a129d8-bf78-45e2-8aea-c7058cd6f43f",
   "metadata": {},
   "outputs": [
    {
     "data": {
      "text/html": [
       "<div>\n",
       "<style scoped>\n",
       "    .dataframe tbody tr th:only-of-type {\n",
       "        vertical-align: middle;\n",
       "    }\n",
       "\n",
       "    .dataframe tbody tr th {\n",
       "        vertical-align: top;\n",
       "    }\n",
       "\n",
       "    .dataframe thead th {\n",
       "        text-align: right;\n",
       "    }\n",
       "</style>\n",
       "<table border=\"1\" class=\"dataframe\">\n",
       "  <thead>\n",
       "    <tr style=\"text-align: right;\">\n",
       "      <th></th>\n",
       "      <th>s2_ref_sum</th>\n",
       "    </tr>\n",
       "  </thead>\n",
       "  <tbody>\n",
       "    <tr>\n",
       "      <th>0</th>\n",
       "      <td>619325624</td>\n",
       "    </tr>\n",
       "  </tbody>\n",
       "</table>\n",
       "</div>"
      ],
      "text/plain": [
       "   s2_ref_sum\n",
       "0   619325624"
      ]
     },
     "execution_count": 49,
     "metadata": {},
     "output_type": "execute_result"
    }
   ],
   "source": [
    "s2_ref_sum"
   ]
  },
  {
   "cell_type": "code",
   "execution_count": 50,
   "id": "279bc812-de2d-4a43-8e44-76d5504ec683",
   "metadata": {},
   "outputs": [],
   "source": [
    "s2_ref_avg = client.query(f\"\"\"\n",
    "                            SELECT \n",
    "                                AVG(s2.referencecount) AS s2_ref_avg\n",
    "                            FROM {s2ag_papers} AS s2, UNNEST(publicationtypes) AS ptype\n",
    "                            WHERE s2.year BETWEEN 2015 AND 2023 AND ptype = 'JournalArticle'\n",
    "                            \"\"\").to_dataframe()"
   ]
  },
  {
   "cell_type": "code",
   "execution_count": 51,
   "id": "aa8d1f77-bdb5-4427-a711-cd9281379bec",
   "metadata": {},
   "outputs": [
    {
     "data": {
      "text/html": [
       "<div>\n",
       "<style scoped>\n",
       "    .dataframe tbody tr th:only-of-type {\n",
       "        vertical-align: middle;\n",
       "    }\n",
       "\n",
       "    .dataframe tbody tr th {\n",
       "        vertical-align: top;\n",
       "    }\n",
       "\n",
       "    .dataframe thead th {\n",
       "        text-align: right;\n",
       "    }\n",
       "</style>\n",
       "<table border=\"1\" class=\"dataframe\">\n",
       "  <thead>\n",
       "    <tr style=\"text-align: right;\">\n",
       "      <th></th>\n",
       "      <th>s2_ref_avg</th>\n",
       "    </tr>\n",
       "  </thead>\n",
       "  <tbody>\n",
       "    <tr>\n",
       "      <th>0</th>\n",
       "      <td>34.737356</td>\n",
       "    </tr>\n",
       "  </tbody>\n",
       "</table>\n",
       "</div>"
      ],
      "text/plain": [
       "   s2_ref_avg\n",
       "0   34.737356"
      ]
     },
     "execution_count": 51,
     "metadata": {},
     "output_type": "execute_result"
    }
   ],
   "source": [
    "s2_ref_avg"
   ]
  },
  {
   "cell_type": "code",
   "execution_count": 12,
   "id": "b99290d1-30a6-4555-afc1-abb571d05314",
   "metadata": {},
   "outputs": [],
   "source": [
    "oal_s2_ref_sum_y = client.query(f\"\"\"\n",
    "                                SELECT \n",
    "                                    SUM(ARRAY_LENGTH(oal.referenced_works)) AS oal_ref_sum, \n",
    "                                    SUM(s2.referencecount) AS s2_ref_sum,\n",
    "                                    SUM(cr.references_count) AS cr_ref_sum,\n",
    "                                    oal.publication_year\n",
    "                                FROM {openalex_snapshot} AS oal\n",
    "                                JOIN {s2ag_papers} AS s2\n",
    "                                    ON LOWER(oal.doi) = LOWER(s2.externalids.DOI)\n",
    "                                JOIN {cr_snapshot} AS cr\n",
    "                                    ON LOWER(oal.doi) = LOWER(cr.doi)\n",
    "                                WHERE oal.publication_year BETWEEN 2015 AND 2023 AND oal.primary_location.source.type = 'journal'\n",
    "                                    AND oal.type='article' AND is_paratext=False AND is_retracted=False\n",
    "                                GROUP BY publication_year\n",
    "                                \"\"\").to_dataframe()"
   ]
  },
  {
   "cell_type": "code",
   "execution_count": 20,
   "id": "38b0c818-4e38-4a1e-aca3-2f3037436f98",
   "metadata": {},
   "outputs": [
    {
     "data": {
      "image/png": "[encoded data removed]",
      "text/plain": [
       "<Figure size 600x450 with 1 Axes>"
      ]
     },
     "metadata": {},
     "output_type": "display_data"
    }
   ],
   "source": [
    "fig, ax = plt.subplots(figsize=(6,4.5))\n",
    "plt.box(False)\n",
    "\n",
    "sns.lineplot(data=oal_s2_ref_sum_y[['oal_ref_sum', 'publication_year']],\n",
    "             x='publication_year',\n",
    "             y='oal_ref_sum',\n",
    "             color='#fc5185',\n",
    "             marker='o',\n",
    "             ax=ax)\n",
    "\n",
    "sns.lineplot(data=oal_s2_ref_sum_y[['s2_ref_sum', 'publication_year']],\n",
    "             x='publication_year',\n",
    "             y='s2_ref_sum',\n",
    "             color='#c3c3c3',\n",
    "             marker='o',\n",
    "             ax=ax)\n",
    "\n",
    "sns.lineplot(data=oal_s2_ref_sum_y[['cr_ref_sum', 'publication_year']],\n",
    "             x='publication_year',\n",
    "             y='cr_ref_sum',\n",
    "             color='#f68212',\n",
    "             marker='o',\n",
    "             ax=ax)\n",
    "\n",
    "ax.grid(False, which='both', axis='x')\n",
    "ax.set(xlabel='Jahr', ylabel='Anzahl der Referenzen (sum)')\n",
    "ax.ticklabel_format(useOffset=False, style='plain')\n",
    "\n",
    "oal_patch = Line2D([0], [0], color='#fc5185', label='OpenAlex (30-05-2024)')\n",
    "s2_patch = Line2D([0], [0], color='#c3c3c3', label='Semantic Scholar (28-05-2024)')\n",
    "cr_patch = Line2D([0], [0], color='#f68212', label='Crossref (05/2024)')\n",
    "\n",
    "lgd = fig.legend(handles=[s2_patch, oal_patch, cr_patch], frameon=False,\n",
    "                 bbox_to_anchor=(1.35, 0.9), labelspacing=1.1)\n",
    "\n",
    "plt.tight_layout()\n",
    "\n",
    "plt.show()\n",
    "fig.savefig(f'media/s2_oal_cr_sum_ref.png', format='png', bbox_inches='tight', dpi=500)"
   ]
  },
  {
   "cell_type": "code",
   "execution_count": 14,
   "id": "d8fa52e8-d28d-4982-a9ce-89a411aeeb79",
   "metadata": {},
   "outputs": [],
   "source": [
    "oal_s2_ref_avg_y = client.query(f\"\"\"\n",
    "                                SELECT \n",
    "                                    AVG(ARRAY_LENGTH(oal.referenced_works)) AS oal_ref_avg, \n",
    "                                    AVG(s2.referencecount) AS s2_ref_avg,\n",
    "                                    AVG(cr.references_count) AS cr_ref_avg,\n",
    "                                    publication_year\n",
    "                                FROM {openalex_snapshot} AS oal\n",
    "                                JOIN {s2ag_papers} AS s2\n",
    "                                    ON LOWER(oal.doi) = LOWER(s2.externalids.DOI)\n",
    "                                JOIN {cr_snapshot} AS cr\n",
    "                                    ON LOWER(oal.doi) = LOWER(cr.doi)\n",
    "                                WHERE oal.publication_year BETWEEN 2015 AND 2023 AND oal.primary_location.source.type = 'journal'\n",
    "                                    AND oal.type='article' AND is_paratext=False AND is_retracted=False\n",
    "                                GROUP BY publication_year\n",
    "                                \"\"\").to_dataframe()"
   ]
  },
  {
   "cell_type": "code",
   "execution_count": 19,
   "id": "169788a4-5240-4732-93c9-67530b71e0b8",
   "metadata": {},
   "outputs": [
    {
     "data": {
      "image/png": "[encoded data removed]",
      "text/plain": [
       "<Figure size 600x450 with 1 Axes>"
      ]
     },
     "metadata": {},
     "output_type": "display_data"
    }
   ],
   "source": [
    "fig, ax = plt.subplots(figsize=(6,4.5))\n",
    "plt.box(False)\n",
    "\n",
    "sns.lineplot(data=oal_s2_ref_avg_y[['oal_ref_avg', 'publication_year']],\n",
    "             x='publication_year',\n",
    "             y='oal_ref_avg',\n",
    "             color='#fc5185',\n",
    "             marker='o',\n",
    "             ax=ax)\n",
    "\n",
    "sns.lineplot(data=oal_s2_ref_avg_y[['s2_ref_avg', 'publication_year']],\n",
    "             x='publication_year',\n",
    "             y='s2_ref_avg',\n",
    "             color='#c3c3c3',\n",
    "             marker='o',\n",
    "             ax=ax)\n",
    "\n",
    "sns.lineplot(data=oal_s2_ref_avg_y[['cr_ref_avg', 'publication_year']],\n",
    "             x='publication_year',\n",
    "             y='cr_ref_avg',\n",
    "             color='#f68212',\n",
    "             marker='o',\n",
    "             ax=ax)\n",
    "\n",
    "ax.grid(False, which='both', axis='x')\n",
    "ax.set(xlabel='Jahr', ylabel='Anzahl der Referenzen (avg)')\n",
    "ax.ticklabel_format(useOffset=False, style='plain')\n",
    "\n",
    "oal_patch = Line2D([0], [0], color='#fc5185', label='OpenAlex (30-05-2024)')\n",
    "s2_patch = Line2D([0], [0], color='#c3c3c3', label='Semantic Scholar (28-05-2024)')\n",
    "cr_patch = Line2D([0], [0], color='#f68212', label='Crossref (05/2024)')\n",
    "\n",
    "lgd = fig.legend(handles=[s2_patch, oal_patch, cr_patch], frameon=False,\n",
    "                 bbox_to_anchor=(1.35, 0.9), labelspacing=1.1)\n",
    "\n",
    "plt.tight_layout()\n",
    "\n",
    "plt.show()\n",
    "fig.savefig(f'media/s2_oal_cr_avg_ref.png', format='png', bbox_inches='tight', dpi=500)"
   ]
  },
  {
   "cell_type": "code",
   "execution_count": 5,
   "id": "c7b64021-b753-4d11-bb29-221013d1d014",
   "metadata": {},
   "outputs": [],
   "source": [
    "oal_s2_ref_avg_y = client.query(f\"\"\"\n",
    "                                SELECT \n",
    "                                    AVG(ARRAY_LENGTH(oal.referenced_works)) AS oal_ref_avg, \n",
    "                                    AVG(s2.referencecount) AS s2_ref_avg,\n",
    "                                    AVG(cr.references_count) AS cr_ref_avg\n",
    "                                FROM {openalex_snapshot} AS oal\n",
    "                                JOIN {s2ag_papers} AS s2\n",
    "                                    ON LOWER(oal.doi) = LOWER(s2.externalids.DOI)\n",
    "                                JOIN {cr_snapshot} AS cr\n",
    "                                    ON LOWER(oal.doi) = LOWER(cr.doi)\n",
    "                                WHERE oal.publication_year BETWEEN 2015 AND 2023 AND oal.primary_location.source.type = 'journal'\n",
    "                                    AND oal.type='article' AND is_paratext=False AND is_retracted=False\n",
    "                                \"\"\").to_dataframe()"
   ]
  },
  {
   "cell_type": "code",
   "execution_count": 6,
   "id": "89dfdde0-8373-4c79-a9b7-b635d58656ae",
   "metadata": {},
   "outputs": [
    {
     "data": {
      "text/html": [
       "<div>\n",
       "<style scoped>\n",
       "    .dataframe tbody tr th:only-of-type {\n",
       "        vertical-align: middle;\n",
       "    }\n",
       "\n",
       "    .dataframe tbody tr th {\n",
       "        vertical-align: top;\n",
       "    }\n",
       "\n",
       "    .dataframe thead th {\n",
       "        text-align: right;\n",
       "    }\n",
       "</style>\n",
       "<table border=\"1\" class=\"dataframe\">\n",
       "  <thead>\n",
       "    <tr style=\"text-align: right;\">\n",
       "      <th></th>\n",
       "      <th>oal_ref_avg</th>\n",
       "      <th>s2_ref_avg</th>\n",
       "      <th>cr_ref_avg</th>\n",
       "    </tr>\n",
       "  </thead>\n",
       "  <tbody>\n",
       "    <tr>\n",
       "      <th>0</th>\n",
       "      <td>22.655904</td>\n",
       "      <td>26.035345</td>\n",
       "      <td>25.648173</td>\n",
       "    </tr>\n",
       "  </tbody>\n",
       "</table>\n",
       "</div>"
      ],
      "text/plain": [
       "   oal_ref_avg  s2_ref_avg  cr_ref_avg\n",
       "0    22.655904   26.035345   25.648173"
      ]
     },
     "execution_count": 6,
     "metadata": {},
     "output_type": "execute_result"
    }
   ],
   "source": [
    "oal_s2_ref_avg_y"
   ]
  },
  {
   "cell_type": "code",
   "execution_count": null,
   "id": "4e5bffa6-e5fa-4c78-a9a3-6e6562b5655e",
   "metadata": {},
   "outputs": [],
   "source": []
  }
 ],
 "metadata": {
  "kernelspec": {
   "display_name": "Python 3 (ipykernel)",
   "language": "python",
   "name": "python3"
  },
  "language_info": {
   "codemirror_mode": {
    "name": "ipython",
    "version": 3
   },
   "file_extension": ".py",
   "mimetype": "text/x-python",
   "name": "python",
   "nbconvert_exporter": "python",
   "pygments_lexer": "ipython3",
   "version": "3.11.10"
  }
 },
 "nbformat": 4,
 "nbformat_minor": 5
}
