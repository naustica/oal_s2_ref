{
 "cells": [
  {
   "cell_type": "code",
   "execution_count": 1,
   "id": "50f3b5b5-d414-48cd-9903-b7d9c7ffd80a",
   "metadata": {},
   "outputs": [],
   "source": [
    "from google.cloud import bigquery\n",
    "import pandas as pd\n",
    "import matplotlib.pyplot as plt\n",
    "from matplotlib_venn import venn2, venn2_circles\n",
    "import seaborn as sns\n",
    "import matplotlib.ticker as mtick\n",
    "import matplotlib.patches as mpatches\n",
    "from matplotlib.lines import Line2D"
   ]
  },
  {
   "cell_type": "code",
   "execution_count": 2,
   "id": "428e6adf-1bff-45e9-8ba7-e023acd0b6a8",
   "metadata": {},
   "outputs": [],
   "source": [
    "client = bigquery.Client(project='subugoe-collaborative')"
   ]
  },
  {
   "cell_type": "code",
   "execution_count": 5,
   "id": "ef855462-67d3-494f-9bca-3dc0c71cfe9c",
   "metadata": {},
   "outputs": [],
   "source": [
    "s2ag_papers = 'subugoe-collaborative.semantic_scholar.papers'\n",
    "s2ag_venues = 'subugoe-collaborative.semantic_scholar.venues'\n",
    "openalex_snapshot = 'subugoe-collaborative.openalex.works'\n",
    "cr_snapshot = 'subugoe-collaborative.cr_instant.snapshot'"
   ]
  },
  {
   "cell_type": "code",
   "execution_count": 6,
   "id": "e8baa7ad-5d0a-4c5d-8958-a0e50c25dcd6",
   "metadata": {},
   "outputs": [],
   "source": [
    "sns.set_style('whitegrid')\n",
    "plt.rc('font', family='Arial')\n",
    "plt.rc('font', size=9) \n",
    "plt.rc('axes', titlesize=9) \n",
    "plt.rc('axes', labelsize=9) \n",
    "plt.rc('xtick', labelsize=9) \n",
    "plt.rc('ytick', labelsize=9) \n",
    "plt.rc('legend', fontsize=9)"
   ]
  },
  {
   "cell_type": "code",
   "execution_count": 7,
   "id": "7db4e92a-929a-49f2-bbfa-1e8b08700718",
   "metadata": {},
   "outputs": [],
   "source": [
    "oal_c = client.query(f\"\"\"\n",
    "                    SELECT COUNT(DISTINCT(oal.doi)) AS n\n",
    "                    FROM {openalex_snapshot} AS oal\n",
    "                    WHERE oal.publication_year BETWEEN 2015 AND 2023 AND oal.primary_location.source.type = 'journal'\n",
    "                        AND oal.type IN ('article', 'review') AND is_paratext=False AND is_retracted=False\n",
    "                    \"\"\").to_dataframe()"
   ]
  },
  {
   "cell_type": "code",
   "execution_count": 8,
   "id": "0e81f5f0-3785-4e3d-ba4f-fbec78d15480",
   "metadata": {},
   "outputs": [
    {
     "data": {
      "text/html": [
       "<div>\n",
       "<style scoped>\n",
       "    .dataframe tbody tr th:only-of-type {\n",
       "        vertical-align: middle;\n",
       "    }\n",
       "\n",
       "    .dataframe tbody tr th {\n",
       "        vertical-align: top;\n",
       "    }\n",
       "\n",
       "    .dataframe thead th {\n",
       "        text-align: right;\n",
       "    }\n",
       "</style>\n",
       "<table border=\"1\" class=\"dataframe\">\n",
       "  <thead>\n",
       "    <tr style=\"text-align: right;\">\n",
       "      <th></th>\n",
       "      <th>n</th>\n",
       "    </tr>\n",
       "  </thead>\n",
       "  <tbody>\n",
       "    <tr>\n",
       "      <th>0</th>\n",
       "      <td>39908593</td>\n",
       "    </tr>\n",
       "  </tbody>\n",
       "</table>\n",
       "</div>"
      ],
      "text/plain": [
       "          n\n",
       "0  39908593"
      ]
     },
     "execution_count": 8,
     "metadata": {},
     "output_type": "execute_result"
    }
   ],
   "source": [
    "oal_c"
   ]
  },
  {
   "cell_type": "code",
   "execution_count": 9,
   "id": "8153aa93-c7de-4fc3-93b8-debe14410833",
   "metadata": {},
   "outputs": [],
   "source": [
    "s2_c = client.query(f\"\"\"\n",
    "                    SELECT COUNT(DISTINCT(externalids.DOI)) AS n\n",
    "                    FROM {s2ag_papers} AS s2, UNNEST(publicationtypes) AS ptype\n",
    "                    WHERE s2.year BETWEEN 2015 AND 2023 AND ptype IN ('JournalArticle', 'Review')\n",
    "                    \"\"\").to_dataframe()"
   ]
  },
  {
   "cell_type": "code",
   "execution_count": 10,
   "id": "34de807c-edbe-4eba-8f68-d69efd062c4e",
   "metadata": {},
   "outputs": [
    {
     "data": {
      "text/html": [
       "<div>\n",
       "<style scoped>\n",
       "    .dataframe tbody tr th:only-of-type {\n",
       "        vertical-align: middle;\n",
       "    }\n",
       "\n",
       "    .dataframe tbody tr th {\n",
       "        vertical-align: top;\n",
       "    }\n",
       "\n",
       "    .dataframe thead th {\n",
       "        text-align: right;\n",
       "    }\n",
       "</style>\n",
       "<table border=\"1\" class=\"dataframe\">\n",
       "  <thead>\n",
       "    <tr style=\"text-align: right;\">\n",
       "      <th></th>\n",
       "      <th>n</th>\n",
       "    </tr>\n",
       "  </thead>\n",
       "  <tbody>\n",
       "    <tr>\n",
       "      <th>0</th>\n",
       "      <td>20293269</td>\n",
       "    </tr>\n",
       "  </tbody>\n",
       "</table>\n",
       "</div>"
      ],
      "text/plain": [
       "          n\n",
       "0  20293269"
      ]
     },
     "execution_count": 10,
     "metadata": {},
     "output_type": "execute_result"
    }
   ],
   "source": [
    "s2_c"
   ]
  },
  {
   "cell_type": "code",
   "execution_count": 11,
   "id": "b6cc633d-d84d-4a75-ae43-77bd4f2621d7",
   "metadata": {},
   "outputs": [],
   "source": [
    "cr_c = client.query(f\"\"\"\n",
    "                    SELECT COUNT(DISTINCT(cr.doi)) AS n\n",
    "                    FROM {cr_snapshot} AS cr\n",
    "                    LEFT JOIN {openalex_snapshot} AS oal\n",
    "                        ON LOWER(cr.doi) = LOWER(oal.doi)\n",
    "                    LEFT JOIN {s2ag_papers} AS s2\n",
    "                        ON LOWER(cr.doi) = LOWER(s2.externalids.DOI)\n",
    "                    WHERE cr.type = 'journal-article' AND issued >= '2015-01-01' \n",
    "                        AND issued < '2024-01-01' AND issued IS NOT NULL AND s2.externalids.DOI IS NULL AND oal.doi IS NULL\n",
    "                    \"\"\").to_dataframe()"
   ]
  },
  {
   "cell_type": "code",
   "execution_count": 12,
   "id": "bae158a2-1e85-4727-95a6-1b9262f5610b",
   "metadata": {},
   "outputs": [
    {
     "data": {
      "text/html": [
       "<div>\n",
       "<style scoped>\n",
       "    .dataframe tbody tr th:only-of-type {\n",
       "        vertical-align: middle;\n",
       "    }\n",
       "\n",
       "    .dataframe tbody tr th {\n",
       "        vertical-align: top;\n",
       "    }\n",
       "\n",
       "    .dataframe thead th {\n",
       "        text-align: right;\n",
       "    }\n",
       "</style>\n",
       "<table border=\"1\" class=\"dataframe\">\n",
       "  <thead>\n",
       "    <tr style=\"text-align: right;\">\n",
       "      <th></th>\n",
       "      <th>n</th>\n",
       "    </tr>\n",
       "  </thead>\n",
       "  <tbody>\n",
       "    <tr>\n",
       "      <th>0</th>\n",
       "      <td>2294</td>\n",
       "    </tr>\n",
       "  </tbody>\n",
       "</table>\n",
       "</div>"
      ],
      "text/plain": [
       "      n\n",
       "0  2294"
      ]
     },
     "execution_count": 12,
     "metadata": {},
     "output_type": "execute_result"
    }
   ],
   "source": [
    "cr_c"
   ]
  },
  {
   "cell_type": "code",
   "execution_count": 13,
   "id": "8cc18e9a-8b4c-4179-83ac-ac6f25a473d7",
   "metadata": {},
   "outputs": [],
   "source": [
    "oal_s2_cr_c = client.query(f\"\"\"\n",
    "                            SELECT COUNT(DISTINCT(oal.doi)) AS n\n",
    "                            FROM {s2ag_papers} AS s2, UNNEST(publicationtypes) AS ptype\n",
    "                            JOIN {openalex_snapshot} AS oal\n",
    "                                ON LOWER(oal.doi) = LOWER(s2.externalids.DOI)\n",
    "                            JOIN {cr_snapshot} AS cr\n",
    "                                    ON LOWER(oal.doi) = LOWER(cr.doi)\n",
    "                            WHERE oal.publication_year BETWEEN 2015 AND 2023 \n",
    "                                AND oal.primary_location.source.type = 'journal'\n",
    "                                AND oal.type IN ('article', 'review') \n",
    "                                AND ptype IN ('JournalArticle', 'Review') \n",
    "                                AND cr.type='journal-article' \n",
    "                                AND is_paratext=False AND is_retracted=False\n",
    "                            \"\"\").to_dataframe()"
   ]
  },
  {
   "cell_type": "code",
   "execution_count": 14,
   "id": "206bc1df-9f33-4e7c-800f-7543ba765614",
   "metadata": {},
   "outputs": [
    {
     "data": {
      "text/html": [
       "<div>\n",
       "<style scoped>\n",
       "    .dataframe tbody tr th:only-of-type {\n",
       "        vertical-align: middle;\n",
       "    }\n",
       "\n",
       "    .dataframe tbody tr th {\n",
       "        vertical-align: top;\n",
       "    }\n",
       "\n",
       "    .dataframe thead th {\n",
       "        text-align: right;\n",
       "    }\n",
       "</style>\n",
       "<table border=\"1\" class=\"dataframe\">\n",
       "  <thead>\n",
       "    <tr style=\"text-align: right;\">\n",
       "      <th></th>\n",
       "      <th>n</th>\n",
       "    </tr>\n",
       "  </thead>\n",
       "  <tbody>\n",
       "    <tr>\n",
       "      <th>0</th>\n",
       "      <td>16984736</td>\n",
       "    </tr>\n",
       "  </tbody>\n",
       "</table>\n",
       "</div>"
      ],
      "text/plain": [
       "          n\n",
       "0  16984736"
      ]
     },
     "execution_count": 14,
     "metadata": {},
     "output_type": "execute_result"
    }
   ],
   "source": [
    "oal_s2_cr_c"
   ]
  },
  {
   "cell_type": "code",
   "execution_count": 15,
   "id": "6d0abc31-f9ef-4b97-95da-47344c17c79e",
   "metadata": {},
   "outputs": [],
   "source": [
    "oal_s2_c = client.query(f\"\"\"\n",
    "                         SELECT COUNT(DISTINCT(oal.doi)) AS n\n",
    "                         FROM {s2ag_papers} AS s2, UNNEST(publicationtypes) AS ptype\n",
    "                         JOIN {openalex_snapshot} AS oal\n",
    "                             ON LOWER(oal.doi) = LOWER(s2.externalids.DOI)\n",
    "                         WHERE oal.publication_year BETWEEN 2015 AND 2023 \n",
    "                             AND oal.primary_location.source.type = 'journal'\n",
    "                             AND oal.type IN ('article', 'review')\n",
    "                             AND ptype IN ('JournalArticle', 'Review')\n",
    "                             AND is_paratext=False\n",
    "                         \"\"\").to_dataframe()"
   ]
  },
  {
   "cell_type": "code",
   "execution_count": 16,
   "id": "5a361ff0-8de8-451a-96e0-3240dce6602a",
   "metadata": {},
   "outputs": [
    {
     "data": {
      "text/html": [
       "<div>\n",
       "<style scoped>\n",
       "    .dataframe tbody tr th:only-of-type {\n",
       "        vertical-align: middle;\n",
       "    }\n",
       "\n",
       "    .dataframe tbody tr th {\n",
       "        vertical-align: top;\n",
       "    }\n",
       "\n",
       "    .dataframe thead th {\n",
       "        text-align: right;\n",
       "    }\n",
       "</style>\n",
       "<table border=\"1\" class=\"dataframe\">\n",
       "  <thead>\n",
       "    <tr style=\"text-align: right;\">\n",
       "      <th></th>\n",
       "      <th>n</th>\n",
       "    </tr>\n",
       "  </thead>\n",
       "  <tbody>\n",
       "    <tr>\n",
       "      <th>0</th>\n",
       "      <td>17150496</td>\n",
       "    </tr>\n",
       "  </tbody>\n",
       "</table>\n",
       "</div>"
      ],
      "text/plain": [
       "          n\n",
       "0  17150496"
      ]
     },
     "execution_count": 16,
     "metadata": {},
     "output_type": "execute_result"
    }
   ],
   "source": [
    "oal_s2_c"
   ]
  },
  {
   "cell_type": "code",
   "execution_count": 17,
   "id": "47c66252-0a8d-42e8-babd-1ec7a3eba19e",
   "metadata": {},
   "outputs": [],
   "source": [
    "oal_cr_c = client.query(f\"\"\"\n",
    "                         SELECT COUNT(DISTINCT(oal.doi)) AS n\n",
    "                         FROM {openalex_snapshot} AS oal\n",
    "                         JOIN {cr_snapshot} AS cr\n",
    "                             ON LOWER(oal.doi) = LOWER(cr.doi)\n",
    "                         LEFT JOIN {s2ag_papers} AS s2\n",
    "                             ON LOWER(oal.doi) = LOWER(s2.externalids.DOI)\n",
    "                         WHERE oal.publication_year BETWEEN 2015 AND 2023 \n",
    "                             AND oal.primary_location.source.type = 'journal'\n",
    "                             AND oal.type IN ('article', 'review')\n",
    "                             AND cr.type='journal-article' \n",
    "                             AND is_paratext=False \n",
    "                             AND is_retracted=False \n",
    "                             AND s2.externalids.DOI IS NULL\n",
    "                         \"\"\").to_dataframe()"
   ]
  },
  {
   "cell_type": "code",
   "execution_count": 18,
   "id": "0eeb698e-33e3-4654-8b9f-9df8ba345366",
   "metadata": {},
   "outputs": [
    {
     "data": {
      "text/html": [
       "<div>\n",
       "<style scoped>\n",
       "    .dataframe tbody tr th:only-of-type {\n",
       "        vertical-align: middle;\n",
       "    }\n",
       "\n",
       "    .dataframe tbody tr th {\n",
       "        vertical-align: top;\n",
       "    }\n",
       "\n",
       "    .dataframe thead th {\n",
       "        text-align: right;\n",
       "    }\n",
       "</style>\n",
       "<table border=\"1\" class=\"dataframe\">\n",
       "  <thead>\n",
       "    <tr style=\"text-align: right;\">\n",
       "      <th></th>\n",
       "      <th>n</th>\n",
       "    </tr>\n",
       "  </thead>\n",
       "  <tbody>\n",
       "    <tr>\n",
       "      <th>0</th>\n",
       "      <td>2138344</td>\n",
       "    </tr>\n",
       "  </tbody>\n",
       "</table>\n",
       "</div>"
      ],
      "text/plain": [
       "         n\n",
       "0  2138344"
      ]
     },
     "execution_count": 18,
     "metadata": {},
     "output_type": "execute_result"
    }
   ],
   "source": [
    "oal_cr_c"
   ]
  },
  {
   "cell_type": "code",
   "execution_count": 19,
   "id": "be4f6df0-d327-4ebe-a7be-ba1c773b9682",
   "metadata": {},
   "outputs": [],
   "source": [
    "s2_cr_c = client.query(f\"\"\"\n",
    "                         SELECT COUNT(DISTINCT(s2.externalids.DOI)) AS n\n",
    "                         FROM {s2ag_papers} AS s2, UNNEST(publicationtypes) AS ptype\n",
    "                         JOIN {cr_snapshot} AS cr\n",
    "                             ON LOWER(s2.externalids.DOI) = LOWER(cr.doi)\n",
    "                         LEFT JOIN {openalex_snapshot} AS oal\n",
    "                             ON LOWER(s2.externalids.DOI) = LOWER(oal.doi)\n",
    "                         WHERE s2.year BETWEEN 2015 AND 2023 \n",
    "                             AND ptype IN ('JournalArticle', 'Review')\n",
    "                             AND oal.doi IS NULL\n",
    "                         \"\"\").to_dataframe()"
   ]
  },
  {
   "cell_type": "code",
   "execution_count": 20,
   "id": "a22da7ae-94ea-4aab-9d98-353f42464d9b",
   "metadata": {},
   "outputs": [
    {
     "data": {
      "text/html": [
       "<div>\n",
       "<style scoped>\n",
       "    .dataframe tbody tr th:only-of-type {\n",
       "        vertical-align: middle;\n",
       "    }\n",
       "\n",
       "    .dataframe tbody tr th {\n",
       "        vertical-align: top;\n",
       "    }\n",
       "\n",
       "    .dataframe thead th {\n",
       "        text-align: right;\n",
       "    }\n",
       "</style>\n",
       "<table border=\"1\" class=\"dataframe\">\n",
       "  <thead>\n",
       "    <tr style=\"text-align: right;\">\n",
       "      <th></th>\n",
       "      <th>n</th>\n",
       "    </tr>\n",
       "  </thead>\n",
       "  <tbody>\n",
       "    <tr>\n",
       "      <th>0</th>\n",
       "      <td>5222</td>\n",
       "    </tr>\n",
       "  </tbody>\n",
       "</table>\n",
       "</div>"
      ],
      "text/plain": [
       "      n\n",
       "0  5222"
      ]
     },
     "execution_count": 20,
     "metadata": {},
     "output_type": "execute_result"
    }
   ],
   "source": [
    "s2_cr_c"
   ]
  },
  {
   "cell_type": "code",
   "execution_count": 22,
   "id": "c0c67a3b-2aeb-4aa7-a75e-8cdced46822b",
   "metadata": {},
   "outputs": [
    {
     "data": {
      "image/png": "[encoded data removed]",
      "text/plain": [
       "<Figure size 600x500 with 1 Axes>"
      ]
     },
     "metadata": {},
     "output_type": "display_data"
    }
   ],
   "source": [
    "fig, ax = plt.subplots(figsize=(6,5))\n",
    "\n",
    "subsets = (39908593-17150496, 20293269-17150496, 17150496)\n",
    "\n",
    "out = venn2(subsets=subsets, \n",
    "      set_labels=('OpenAlex', 'Semantic Scholar'),\n",
    "      set_colors=('white', 'white'),\n",
    "      alpha=0.7)\n",
    "\n",
    "venn2_circles(subsets=subsets, \n",
    "              linewidth=0.5)\n",
    "\n",
    "for text in out.set_labels:\n",
    "    text.set_font('Arial')\n",
    "    text.set_fontsize(10)\n",
    "    text.set_fontweight('bold')\n",
    "for text in out.subset_labels:\n",
    "    text.set_font('Arial')\n",
    "    text.set_fontsize(9)\n",
    "    s = int(text.get_text())\n",
    "    text.set_text(f\"{s:,}\")\n",
    "    \n",
    "plt.show()\n",
    "fig.savefig(f'media/venn_s2_oal.png', format='png', bbox_inches='tight', dpi=500)"
   ]
  },
  {
   "cell_type": "code",
   "execution_count": 23,
   "id": "49724af9-ff71-4bf0-ab98-69e4624cbfee",
   "metadata": {},
   "outputs": [],
   "source": [
    "oal_s2_ref_sum = client.query(f\"\"\"\n",
    "                                SELECT \n",
    "                                    SUM(oal.referenced_works_count) AS oal_ref_sum, \n",
    "                                    SUM(s2.referencecount) AS s2_ref_sum\n",
    "                                FROM {openalex_snapshot} AS oal\n",
    "                                JOIN {s2ag_papers} AS s2\n",
    "                                    ON LOWER(oal.doi) = LOWER(s2.externalids.DOI)\n",
    "                                WHERE oal.publication_year BETWEEN 2015 AND 2023 AND oal.primary_location.source.type = 'journal'\n",
    "                                    AND type IN ('article', 'review') AND is_paratext=False AND is_retracted=False\n",
    "                                \"\"\").to_dataframe()"
   ]
  },
  {
   "cell_type": "code",
   "execution_count": 24,
   "id": "10fdcd41-aa4c-45cd-86c1-a216190796f4",
   "metadata": {},
   "outputs": [
    {
     "data": {
      "text/html": [
       "<div>\n",
       "<style scoped>\n",
       "    .dataframe tbody tr th:only-of-type {\n",
       "        vertical-align: middle;\n",
       "    }\n",
       "\n",
       "    .dataframe tbody tr th {\n",
       "        vertical-align: top;\n",
       "    }\n",
       "\n",
       "    .dataframe thead th {\n",
       "        text-align: right;\n",
       "    }\n",
       "</style>\n",
       "<table border=\"1\" class=\"dataframe\">\n",
       "  <thead>\n",
       "    <tr style=\"text-align: right;\">\n",
       "      <th></th>\n",
       "      <th>oal_ref_sum</th>\n",
       "      <th>s2_ref_sum</th>\n",
       "    </tr>\n",
       "  </thead>\n",
       "  <tbody>\n",
       "    <tr>\n",
       "      <th>0</th>\n",
       "      <td>982585826</td>\n",
       "      <td>994263247</td>\n",
       "    </tr>\n",
       "  </tbody>\n",
       "</table>\n",
       "</div>"
      ],
      "text/plain": [
       "   oal_ref_sum  s2_ref_sum\n",
       "0    982585826   994263247"
      ]
     },
     "execution_count": 24,
     "metadata": {},
     "output_type": "execute_result"
    }
   ],
   "source": [
    "oal_s2_ref_sum"
   ]
  },
  {
   "cell_type": "code",
   "execution_count": 25,
   "id": "3cb3dd41-473e-4209-afd5-22187ef48c43",
   "metadata": {},
   "outputs": [],
   "source": [
    "oal_s2_ref_avg = client.query(f\"\"\"\n",
    "                                SELECT \n",
    "                                    AVG(oal.referenced_works_count) AS oal_ref_avg, \n",
    "                                    AVG(s2.referencecount) AS s2_ref_avg\n",
    "                                FROM {openalex_snapshot} AS oal\n",
    "                                JOIN {s2ag_papers} AS s2\n",
    "                                    ON LOWER(oal.doi) = LOWER(s2.externalids.DOI)\n",
    "                                WHERE oal.publication_year BETWEEN 2015 AND 2023 AND oal.primary_location.source.type = 'journal'\n",
    "                                    AND type IN ('article', 'review') AND is_paratext=False AND is_retracted=False\n",
    "                                \"\"\").to_dataframe()"
   ]
  },
  {
   "cell_type": "code",
   "execution_count": 26,
   "id": "48c226bb-1806-4ebb-8d3c-9c3a844a8a51",
   "metadata": {},
   "outputs": [
    {
     "data": {
      "text/html": [
       "<div>\n",
       "<style scoped>\n",
       "    .dataframe tbody tr th:only-of-type {\n",
       "        vertical-align: middle;\n",
       "    }\n",
       "\n",
       "    .dataframe tbody tr th {\n",
       "        vertical-align: top;\n",
       "    }\n",
       "\n",
       "    .dataframe thead th {\n",
       "        text-align: right;\n",
       "    }\n",
       "</style>\n",
       "<table border=\"1\" class=\"dataframe\">\n",
       "  <thead>\n",
       "    <tr style=\"text-align: right;\">\n",
       "      <th></th>\n",
       "      <th>oal_ref_avg</th>\n",
       "      <th>s2_ref_avg</th>\n",
       "    </tr>\n",
       "  </thead>\n",
       "  <tbody>\n",
       "    <tr>\n",
       "      <th>0</th>\n",
       "      <td>25.522977</td>\n",
       "      <td>25.826302</td>\n",
       "    </tr>\n",
       "  </tbody>\n",
       "</table>\n",
       "</div>"
      ],
      "text/plain": [
       "   oal_ref_avg  s2_ref_avg\n",
       "0    25.522977   25.826302"
      ]
     },
     "execution_count": 26,
     "metadata": {},
     "output_type": "execute_result"
    }
   ],
   "source": [
    "oal_s2_ref_avg"
   ]
  },
  {
   "cell_type": "code",
   "execution_count": 27,
   "id": "4dfb4d61-7135-4700-9ccf-c45615566578",
   "metadata": {},
   "outputs": [],
   "source": [
    "oal_ref_sum = client.query(f\"\"\"\n",
    "                            SELECT \n",
    "                                SUM(oal.referenced_works_count) AS oal_ref_sum, \n",
    "                            FROM {openalex_snapshot} AS oal\n",
    "                            WHERE oal.publication_year BETWEEN 2015 AND 2023 AND oal.primary_location.source.type = 'journal'\n",
    "                                AND type IN ('article', 'review') AND is_paratext=False AND is_retracted=False\n",
    "                            \"\"\").to_dataframe()"
   ]
  },
  {
   "cell_type": "code",
   "execution_count": 28,
   "id": "4bd72984-4d0d-4584-806f-d784b92dfc4e",
   "metadata": {},
   "outputs": [
    {
     "data": {
      "text/html": [
       "<div>\n",
       "<style scoped>\n",
       "    .dataframe tbody tr th:only-of-type {\n",
       "        vertical-align: middle;\n",
       "    }\n",
       "\n",
       "    .dataframe tbody tr th {\n",
       "        vertical-align: top;\n",
       "    }\n",
       "\n",
       "    .dataframe thead th {\n",
       "        text-align: right;\n",
       "    }\n",
       "</style>\n",
       "<table border=\"1\" class=\"dataframe\">\n",
       "  <thead>\n",
       "    <tr style=\"text-align: right;\">\n",
       "      <th></th>\n",
       "      <th>oal_ref_sum</th>\n",
       "    </tr>\n",
       "  </thead>\n",
       "  <tbody>\n",
       "    <tr>\n",
       "      <th>0</th>\n",
       "      <td>979574990</td>\n",
       "    </tr>\n",
       "  </tbody>\n",
       "</table>\n",
       "</div>"
      ],
      "text/plain": [
       "   oal_ref_sum\n",
       "0    979574990"
      ]
     },
     "execution_count": 28,
     "metadata": {},
     "output_type": "execute_result"
    }
   ],
   "source": [
    "oal_ref_sum"
   ]
  },
  {
   "cell_type": "code",
   "execution_count": 29,
   "id": "536d11c8-f9cb-4951-a9b3-62f0a6a2c879",
   "metadata": {},
   "outputs": [],
   "source": [
    "oal_ref_avg = client.query(f\"\"\"\n",
    "                            SELECT \n",
    "                                AVG(oal.referenced_works_count) AS oal_ref_avg, \n",
    "                            FROM {openalex_snapshot} AS oal\n",
    "                            WHERE oal.publication_year BETWEEN 2015 AND 2023 AND oal.primary_location.source.type = 'journal'\n",
    "                                AND type IN ('article', 'review') AND is_paratext=False AND is_retracted=False\n",
    "                            \"\"\").to_dataframe()"
   ]
  },
  {
   "cell_type": "code",
   "execution_count": 30,
   "id": "103b35fe-24df-4a7e-b9a0-fe3fac2a0c9d",
   "metadata": {},
   "outputs": [
    {
     "data": {
      "text/html": [
       "<div>\n",
       "<style scoped>\n",
       "    .dataframe tbody tr th:only-of-type {\n",
       "        vertical-align: middle;\n",
       "    }\n",
       "\n",
       "    .dataframe tbody tr th {\n",
       "        vertical-align: top;\n",
       "    }\n",
       "\n",
       "    .dataframe thead th {\n",
       "        text-align: right;\n",
       "    }\n",
       "</style>\n",
       "<table border=\"1\" class=\"dataframe\">\n",
       "  <thead>\n",
       "    <tr style=\"text-align: right;\">\n",
       "      <th></th>\n",
       "      <th>oal_ref_avg</th>\n",
       "    </tr>\n",
       "  </thead>\n",
       "  <tbody>\n",
       "    <tr>\n",
       "      <th>0</th>\n",
       "      <td>20.506328</td>\n",
       "    </tr>\n",
       "  </tbody>\n",
       "</table>\n",
       "</div>"
      ],
      "text/plain": [
       "   oal_ref_avg\n",
       "0    20.506328"
      ]
     },
     "execution_count": 30,
     "metadata": {},
     "output_type": "execute_result"
    }
   ],
   "source": [
    "oal_ref_avg"
   ]
  },
  {
   "cell_type": "code",
   "execution_count": 32,
   "id": "dcf67b7f-a333-4f24-986a-55aecb44f651",
   "metadata": {},
   "outputs": [],
   "source": [
    "s2_ref_sum = client.query(f\"\"\"\n",
    "                            SELECT \n",
    "                                SUM(s2.referencecount) AS s2_ref_sum\n",
    "                            FROM {s2ag_papers} AS s2, UNNEST(publicationtypes) AS ptype\n",
    "                            WHERE s2.year BETWEEN 2015 AND 2023 AND ptype IN ('JournalArticle', 'Review')\n",
    "                            \"\"\").to_dataframe()"
   ]
  },
  {
   "cell_type": "code",
   "execution_count": 33,
   "id": "b5a129d8-bf78-45e2-8aea-c7058cd6f43f",
   "metadata": {},
   "outputs": [
    {
     "data": {
      "text/html": [
       "<div>\n",
       "<style scoped>\n",
       "    .dataframe tbody tr th:only-of-type {\n",
       "        vertical-align: middle;\n",
       "    }\n",
       "\n",
       "    .dataframe tbody tr th {\n",
       "        vertical-align: top;\n",
       "    }\n",
       "\n",
       "    .dataframe thead th {\n",
       "        text-align: right;\n",
       "    }\n",
       "</style>\n",
       "<table border=\"1\" class=\"dataframe\">\n",
       "  <thead>\n",
       "    <tr style=\"text-align: right;\">\n",
       "      <th></th>\n",
       "      <th>s2_ref_sum</th>\n",
       "    </tr>\n",
       "  </thead>\n",
       "  <tbody>\n",
       "    <tr>\n",
       "      <th>0</th>\n",
       "      <td>890745379</td>\n",
       "    </tr>\n",
       "  </tbody>\n",
       "</table>\n",
       "</div>"
      ],
      "text/plain": [
       "   s2_ref_sum\n",
       "0   890745379"
      ]
     },
     "execution_count": 33,
     "metadata": {},
     "output_type": "execute_result"
    }
   ],
   "source": [
    "s2_ref_sum"
   ]
  },
  {
   "cell_type": "code",
   "execution_count": 34,
   "id": "279bc812-de2d-4a43-8e44-76d5504ec683",
   "metadata": {},
   "outputs": [],
   "source": [
    "s2_ref_avg = client.query(f\"\"\"\n",
    "                            SELECT \n",
    "                                AVG(s2.referencecount) AS s2_ref_avg\n",
    "                            FROM {s2ag_papers} AS s2, UNNEST(publicationtypes) AS ptype\n",
    "                            WHERE s2.year BETWEEN 2015 AND 2023 AND ptype IN ('JournalArticle', 'Review')\n",
    "                            \"\"\").to_dataframe()"
   ]
  },
  {
   "cell_type": "code",
   "execution_count": 35,
   "id": "aa8d1f77-bdb5-4427-a711-cd9281379bec",
   "metadata": {},
   "outputs": [
    {
     "data": {
      "text/html": [
       "<div>\n",
       "<style scoped>\n",
       "    .dataframe tbody tr th:only-of-type {\n",
       "        vertical-align: middle;\n",
       "    }\n",
       "\n",
       "    .dataframe tbody tr th {\n",
       "        vertical-align: top;\n",
       "    }\n",
       "\n",
       "    .dataframe thead th {\n",
       "        text-align: right;\n",
       "    }\n",
       "</style>\n",
       "<table border=\"1\" class=\"dataframe\">\n",
       "  <thead>\n",
       "    <tr style=\"text-align: right;\">\n",
       "      <th></th>\n",
       "      <th>s2_ref_avg</th>\n",
       "    </tr>\n",
       "  </thead>\n",
       "  <tbody>\n",
       "    <tr>\n",
       "      <th>0</th>\n",
       "      <td>36.149792</td>\n",
       "    </tr>\n",
       "  </tbody>\n",
       "</table>\n",
       "</div>"
      ],
      "text/plain": [
       "   s2_ref_avg\n",
       "0   36.149792"
      ]
     },
     "execution_count": 35,
     "metadata": {},
     "output_type": "execute_result"
    }
   ],
   "source": [
    "s2_ref_avg"
   ]
  },
  {
   "cell_type": "code",
   "execution_count": 36,
   "id": "b99290d1-30a6-4555-afc1-abb571d05314",
   "metadata": {},
   "outputs": [],
   "source": [
    "oal_s2_ref_sum_y = client.query(f\"\"\"\n",
    "                                SELECT \n",
    "                                    SUM(oal.referenced_works_count) AS oal_ref_sum, \n",
    "                                    SUM(s2.referencecount) AS s2_ref_sum,\n",
    "                                    SUM(cr.references_count) AS cr_ref_sum,\n",
    "                                    oal.publication_year\n",
    "                                FROM {openalex_snapshot} AS oal\n",
    "                                JOIN {s2ag_papers} AS s2\n",
    "                                    ON LOWER(oal.doi) = LOWER(s2.externalids.DOI)\n",
    "                                JOIN {cr_snapshot} AS cr\n",
    "                                    ON LOWER(oal.doi) = LOWER(cr.doi)\n",
    "                                WHERE oal.publication_year BETWEEN 2015 AND 2023 AND oal.primary_location.source.type = 'journal'\n",
    "                                    AND oal.type IN ('article', 'review') AND is_paratext=False AND is_retracted=False\n",
    "                                GROUP BY publication_year\n",
    "                                \"\"\").to_dataframe()"
   ]
  },
  {
   "cell_type": "code",
   "execution_count": 42,
   "id": "38b0c818-4e38-4a1e-aca3-2f3037436f98",
   "metadata": {},
   "outputs": [
    {
     "data": {
      "image/png": "[encoded data removed]",
      "text/plain": [
       "<Figure size 600x450 with 1 Axes>"
      ]
     },
     "metadata": {},
     "output_type": "display_data"
    }
   ],
   "source": [
    "fig, ax = plt.subplots(figsize=(6,4.5))\n",
    "plt.box(False)\n",
    "\n",
    "sns.lineplot(data=oal_s2_ref_sum_y[['oal_ref_sum', 'publication_year']],\n",
    "             x='publication_year',\n",
    "             y='oal_ref_sum',\n",
    "             color='#fc5185',\n",
    "             marker='o',\n",
    "             ax=ax)\n",
    "\n",
    "sns.lineplot(data=oal_s2_ref_sum_y[['s2_ref_sum', 'publication_year']],\n",
    "             x='publication_year',\n",
    "             y='s2_ref_sum',\n",
    "             color='#c3c3c3',\n",
    "             marker='o',\n",
    "             ax=ax)\n",
    "\n",
    "sns.lineplot(data=oal_s2_ref_sum_y[['cr_ref_sum', 'publication_year']],\n",
    "             x='publication_year',\n",
    "             y='cr_ref_sum',\n",
    "             color='#f68212',\n",
    "             marker='o',\n",
    "             ax=ax)\n",
    "\n",
    "ax.grid(False, which='both', axis='x')\n",
    "ax.set(xlabel='Year', ylabel='Number of references (sum)')\n",
    "ax.ticklabel_format(useOffset=False, style='plain')\n",
    "\n",
    "oal_patch = Line2D([0], [0], color='#fc5185', label='OpenAlex (21-08-2025)')\n",
    "s2_patch = Line2D([0], [0], color='#c3c3c3', label='Semantic Scholar (25-02-2025)')\n",
    "cr_patch = Line2D([0], [0], color='#f68212', label='Crossref (07/2025)')\n",
    "\n",
    "lgd = fig.legend(handles=[s2_patch, oal_patch, cr_patch], frameon=False,\n",
    "                 bbox_to_anchor=(1.35, 0.9), labelspacing=1.1)\n",
    "\n",
    "plt.tight_layout()\n",
    "\n",
    "plt.show()\n",
    "fig.savefig(f'media/s2_oal_cr_sum_ref.png', format='png', bbox_inches='tight', dpi=500)"
   ]
  },
  {
   "cell_type": "code",
   "execution_count": 43,
   "id": "d8fa52e8-d28d-4982-a9ce-89a411aeeb79",
   "metadata": {},
   "outputs": [],
   "source": [
    "oal_s2_ref_avg_y = client.query(f\"\"\"\n",
    "                                SELECT \n",
    "                                    AVG(oal.referenced_works_count) AS oal_ref_avg, \n",
    "                                    AVG(s2.referencecount) AS s2_ref_avg,\n",
    "                                    AVG(cr.references_count) AS cr_ref_avg,\n",
    "                                    publication_year\n",
    "                                FROM {openalex_snapshot} AS oal\n",
    "                                JOIN {s2ag_papers} AS s2\n",
    "                                    ON LOWER(oal.doi) = LOWER(s2.externalids.DOI)\n",
    "                                JOIN {cr_snapshot} AS cr\n",
    "                                    ON LOWER(oal.doi) = LOWER(cr.doi)\n",
    "                                WHERE oal.publication_year BETWEEN 2015 AND 2023 AND oal.primary_location.source.type = 'journal'\n",
    "                                    AND oal.type IN ('article', 'review') AND is_paratext=False AND is_retracted=False\n",
    "                                GROUP BY publication_year\n",
    "                                \"\"\").to_dataframe()"
   ]
  },
  {
   "cell_type": "code",
   "execution_count": 44,
   "id": "169788a4-5240-4732-93c9-67530b71e0b8",
   "metadata": {},
   "outputs": [
    {
     "data": {
      "image/png": "[encoded data removed]",
      "text/plain": [
       "<Figure size 600x450 with 1 Axes>"
      ]
     },
     "metadata": {},
     "output_type": "display_data"
    }
   ],
   "source": [
    "fig, ax = plt.subplots(figsize=(6,4.5))\n",
    "plt.box(False)\n",
    "\n",
    "sns.lineplot(data=oal_s2_ref_avg_y[['oal_ref_avg', 'publication_year']],\n",
    "             x='publication_year',\n",
    "             y='oal_ref_avg',\n",
    "             color='#fc5185',\n",
    "             marker='o',\n",
    "             ax=ax)\n",
    "\n",
    "sns.lineplot(data=oal_s2_ref_avg_y[['s2_ref_avg', 'publication_year']],\n",
    "             x='publication_year',\n",
    "             y='s2_ref_avg',\n",
    "             color='#c3c3c3',\n",
    "             marker='o',\n",
    "             ax=ax)\n",
    "\n",
    "sns.lineplot(data=oal_s2_ref_avg_y[['cr_ref_avg', 'publication_year']],\n",
    "             x='publication_year',\n",
    "             y='cr_ref_avg',\n",
    "             color='#f68212',\n",
    "             marker='o',\n",
    "             ax=ax)\n",
    "\n",
    "ax.grid(False, which='both', axis='x')\n",
    "ax.set(xlabel='Year', ylabel='Number of references (avg)')\n",
    "ax.ticklabel_format(useOffset=False, style='plain')\n",
    "\n",
    "oal_patch = Line2D([0], [0], color='#fc5185', label='OpenAlex (21-08-2025)')\n",
    "s2_patch = Line2D([0], [0], color='#c3c3c3', label='Semantic Scholar (25-02-2025)')\n",
    "cr_patch = Line2D([0], [0], color='#f68212', label='Crossref (07/2025)')\n",
    "\n",
    "lgd = fig.legend(handles=[s2_patch, oal_patch, cr_patch], frameon=False,\n",
    "                 bbox_to_anchor=(1.35, 0.9), labelspacing=1.1)\n",
    "\n",
    "plt.tight_layout()\n",
    "\n",
    "plt.show()\n",
    "fig.savefig(f'media/s2_oal_cr_avg_ref.png', format='png', bbox_inches='tight', dpi=500)"
   ]
  },
  {
   "cell_type": "code",
   "execution_count": 40,
   "id": "c7b64021-b753-4d11-bb29-221013d1d014",
   "metadata": {},
   "outputs": [],
   "source": [
    "oal_s2_ref_avg_y = client.query(f\"\"\"\n",
    "                                SELECT \n",
    "                                    AVG(oal.referenced_works_count) AS oal_ref_avg, \n",
    "                                    AVG(s2.referencecount) AS s2_ref_avg,\n",
    "                                    AVG(cr.references_count) AS cr_ref_avg\n",
    "                                FROM {openalex_snapshot} AS oal\n",
    "                                JOIN {s2ag_papers} AS s2\n",
    "                                    ON LOWER(oal.doi) = LOWER(s2.externalids.DOI)\n",
    "                                JOIN {cr_snapshot} AS cr\n",
    "                                    ON LOWER(oal.doi) = LOWER(cr.doi)\n",
    "                                WHERE oal.publication_year BETWEEN 2015 AND 2023 AND oal.primary_location.source.type = 'journal'\n",
    "                                    AND oal.type IN ('article', 'review') AND is_paratext=False AND is_retracted=False\n",
    "                                \"\"\").to_dataframe()"
   ]
  },
  {
   "cell_type": "code",
   "execution_count": 41,
   "id": "89dfdde0-8373-4c79-a9b7-b635d58656ae",
   "metadata": {},
   "outputs": [
    {
     "data": {
      "text/html": [
       "<div>\n",
       "<style scoped>\n",
       "    .dataframe tbody tr th:only-of-type {\n",
       "        vertical-align: middle;\n",
       "    }\n",
       "\n",
       "    .dataframe tbody tr th {\n",
       "        vertical-align: top;\n",
       "    }\n",
       "\n",
       "    .dataframe thead th {\n",
       "        text-align: right;\n",
       "    }\n",
       "</style>\n",
       "<table border=\"1\" class=\"dataframe\">\n",
       "  <thead>\n",
       "    <tr style=\"text-align: right;\">\n",
       "      <th></th>\n",
       "      <th>oal_ref_avg</th>\n",
       "      <th>s2_ref_avg</th>\n",
       "      <th>cr_ref_avg</th>\n",
       "    </tr>\n",
       "  </thead>\n",
       "  <tbody>\n",
       "    <tr>\n",
       "      <th>0</th>\n",
       "      <td>26.094427</td>\n",
       "      <td>26.323531</td>\n",
       "      <td>26.06475</td>\n",
       "    </tr>\n",
       "  </tbody>\n",
       "</table>\n",
       "</div>"
      ],
      "text/plain": [
       "   oal_ref_avg  s2_ref_avg  cr_ref_avg\n",
       "0    26.094427   26.323531    26.06475"
      ]
     },
     "execution_count": 41,
     "metadata": {},
     "output_type": "execute_result"
    }
   ],
   "source": [
    "oal_s2_ref_avg_y"
   ]
  },
  {
   "cell_type": "code",
   "execution_count": 45,
   "id": "f87e0590-f6ca-4a8f-988c-f3cd0e060f79",
   "metadata": {},
   "outputs": [],
   "source": [
    "oal_s2_ref_avg_per_journal = client.query(f\"\"\"\n",
    "                                           SELECT \n",
    "                                               AVG(oal.referenced_works_count) AS oal_ref_avg, \n",
    "                                               AVG(s2.referencecount) AS s2_ref_avg,\n",
    "                                               oal.primary_location.source.display_name AS journal_title\n",
    "                                           FROM {openalex_snapshot} AS oal\n",
    "                                           JOIN {s2ag_papers} AS s2\n",
    "                                               ON LOWER(oal.doi) = LOWER(s2.externalids.DOI)\n",
    "                                           WHERE oal.publication_year BETWEEN 2015 AND 2023 \n",
    "                                               AND oal.primary_location.source.type = 'journal'\n",
    "                                               AND oal.type IN ('article', 'review') \n",
    "                                               AND is_paratext=False \n",
    "                                               AND is_retracted=False\n",
    "                                           GROUP BY journal_title\n",
    "                                           \"\"\").to_dataframe()"
   ]
  },
  {
   "cell_type": "code",
   "execution_count": 46,
   "id": "b8e722e4-c8b1-42d7-ae03-eff6a8d80046",
   "metadata": {},
   "outputs": [
    {
     "data": {
      "text/html": [
       "<div>\n",
       "<style scoped>\n",
       "    .dataframe tbody tr th:only-of-type {\n",
       "        vertical-align: middle;\n",
       "    }\n",
       "\n",
       "    .dataframe tbody tr th {\n",
       "        vertical-align: top;\n",
       "    }\n",
       "\n",
       "    .dataframe thead th {\n",
       "        text-align: right;\n",
       "    }\n",
       "</style>\n",
       "<table border=\"1\" class=\"dataframe\">\n",
       "  <thead>\n",
       "    <tr style=\"text-align: right;\">\n",
       "      <th></th>\n",
       "      <th>oal_ref_avg</th>\n",
       "      <th>s2_ref_avg</th>\n",
       "      <th>journal_title</th>\n",
       "    </tr>\n",
       "  </thead>\n",
       "  <tbody>\n",
       "    <tr>\n",
       "      <th>0</th>\n",
       "      <td>59.437448</td>\n",
       "      <td>59.685255</td>\n",
       "      <td>Journal of Hydrology</td>\n",
       "    </tr>\n",
       "    <tr>\n",
       "      <th>1</th>\n",
       "      <td>7.536585</td>\n",
       "      <td>7.591463</td>\n",
       "      <td>Documentación de las Ciencias de la Información</td>\n",
       "    </tr>\n",
       "    <tr>\n",
       "      <th>2</th>\n",
       "      <td>1.092784</td>\n",
       "      <td>4.185567</td>\n",
       "      <td>Revista Brasileira de História do Direito</td>\n",
       "    </tr>\n",
       "    <tr>\n",
       "      <th>3</th>\n",
       "      <td>11.732919</td>\n",
       "      <td>14.178054</td>\n",
       "      <td>Journal of College of Medical Sciences-Nepal</td>\n",
       "    </tr>\n",
       "    <tr>\n",
       "      <th>4</th>\n",
       "      <td>20.646766</td>\n",
       "      <td>31.185323</td>\n",
       "      <td>International journal of engineering research ...</td>\n",
       "    </tr>\n",
       "    <tr>\n",
       "      <th>...</th>\n",
       "      <td>...</td>\n",
       "      <td>...</td>\n",
       "      <td>...</td>\n",
       "    </tr>\n",
       "    <tr>\n",
       "      <th>109150</th>\n",
       "      <td>0.000000</td>\n",
       "      <td>0.000000</td>\n",
       "      <td>SCIREA journal of energy.</td>\n",
       "    </tr>\n",
       "    <tr>\n",
       "      <th>109151</th>\n",
       "      <td>0.000000</td>\n",
       "      <td>0.000000</td>\n",
       "      <td>小児科</td>\n",
       "    </tr>\n",
       "    <tr>\n",
       "      <th>109152</th>\n",
       "      <td>0.000000</td>\n",
       "      <td>0.000000</td>\n",
       "      <td>Journal of the fantastic in the arts</td>\n",
       "    </tr>\n",
       "    <tr>\n",
       "      <th>109153</th>\n",
       "      <td>0.000000</td>\n",
       "      <td>0.000000</td>\n",
       "      <td>Index of Texas Archaeology: Open Access Gray L...</td>\n",
       "    </tr>\n",
       "    <tr>\n",
       "      <th>109154</th>\n",
       "      <td>0.000000</td>\n",
       "      <td>0.000000</td>\n",
       "      <td>Forum on Law and Economics</td>\n",
       "    </tr>\n",
       "  </tbody>\n",
       "</table>\n",
       "<p>109155 rows × 3 columns</p>\n",
       "</div>"
      ],
      "text/plain": [
       "        oal_ref_avg  s2_ref_avg  \\\n",
       "0         59.437448   59.685255   \n",
       "1          7.536585    7.591463   \n",
       "2          1.092784    4.185567   \n",
       "3         11.732919   14.178054   \n",
       "4         20.646766   31.185323   \n",
       "...             ...         ...   \n",
       "109150     0.000000    0.000000   \n",
       "109151     0.000000    0.000000   \n",
       "109152     0.000000    0.000000   \n",
       "109153     0.000000    0.000000   \n",
       "109154     0.000000    0.000000   \n",
       "\n",
       "                                            journal_title  \n",
       "0                                    Journal of Hydrology  \n",
       "1         Documentación de las Ciencias de la Información  \n",
       "2               Revista Brasileira de História do Direito  \n",
       "3            Journal of College of Medical Sciences-Nepal  \n",
       "4       International journal of engineering research ...  \n",
       "...                                                   ...  \n",
       "109150                          SCIREA journal of energy.  \n",
       "109151                                                小児科  \n",
       "109152               Journal of the fantastic in the arts  \n",
       "109153  Index of Texas Archaeology: Open Access Gray L...  \n",
       "109154                         Forum on Law and Economics  \n",
       "\n",
       "[109155 rows x 3 columns]"
      ]
     },
     "execution_count": 46,
     "metadata": {},
     "output_type": "execute_result"
    }
   ],
   "source": [
    "oal_s2_ref_avg_per_journal"
   ]
  },
  {
   "cell_type": "code",
   "execution_count": 47,
   "id": "735d91a7-2fef-485a-a626-2df1097a0e63",
   "metadata": {},
   "outputs": [],
   "source": [
    "oal_s2_ref_sum_per_journal = client.query(f\"\"\"\n",
    "                                           SELECT \n",
    "                                               SUM(oal.referenced_works_count) AS oal_ref_sum, \n",
    "                                               SUM(s2.referencecount) AS s2_ref_sum,\n",
    "                                               oal.primary_location.source.display_name AS journal_title\n",
    "                                           FROM {openalex_snapshot} AS oal\n",
    "                                           JOIN {s2ag_papers} AS s2\n",
    "                                               ON LOWER(oal.doi) = LOWER(s2.externalids.DOI)\n",
    "                                           WHERE oal.publication_year BETWEEN 2015 AND 2023 \n",
    "                                               AND oal.primary_location.source.type = 'journal'\n",
    "                                               AND oal.type IN ('article', 'review') \n",
    "                                               AND is_paratext=False \n",
    "                                               AND is_retracted=False\n",
    "                                           GROUP BY journal_title\n",
    "                                           \"\"\").to_dataframe()"
   ]
  },
  {
   "cell_type": "code",
   "execution_count": 52,
   "id": "572447cb-5325-4764-b017-8fd585ab27ec",
   "metadata": {},
   "outputs": [
    {
     "data": {
      "image/png": "[encoded data removed]",
      "text/plain": [
       "<Figure size 450x400 with 1 Axes>"
      ]
     },
     "metadata": {},
     "output_type": "display_data"
    }
   ],
   "source": [
    "fig, ax = plt.subplots(figsize=(4.5, 4))\n",
    "\n",
    "plt.grid(True)\n",
    "\n",
    "x = [x for x in range(1**1-1, 10**7, 1000000)]\n",
    "y = x\n",
    "\n",
    "sns.scatterplot(data=oal_s2_ref_sum_per_journal, \n",
    "                x='oal_ref_sum', \n",
    "                y='s2_ref_sum',\n",
    "                marker='.',\n",
    "                alpha=.1,\n",
    "                edgecolor='#000000',\n",
    "                color='#666666')\n",
    "\n",
    "sns.lineplot(x=x, \n",
    "             y=y, \n",
    "             color='#3366FF', \n",
    "             linestyle='dashed', \n",
    "             linewidth=1.1,\n",
    "             alpha=1)\n",
    "\n",
    "ax.set(xlabel='Number of references per journal \\n (OpenAlex)', ylabel='Number of references per journal \\n (Semantic Scholar)')\n",
    "\n",
    "plt.xscale('log')\n",
    "plt.yscale('log')\n",
    "\n",
    "plt.tight_layout()\n",
    "plt.show()\n",
    "fig.savefig('media/oal_s2_ref_sum_per_journal.png', format='png', bbox_inches='tight', dpi=500)"
   ]
  },
  {
   "cell_type": "code",
   "execution_count": 55,
   "id": "bb39da69-457e-44fd-8f8c-68c44e45bdb2",
   "metadata": {},
   "outputs": [],
   "source": [
    "oal_s2_ref_sum_avg_per_topic = client.query(f\"\"\"\n",
    "                                             SELECT \n",
    "                                                 SUM(oal.referenced_works_count) AS oal_ref_sum, \n",
    "                                                 AVG(oal.referenced_works_count) AS oal_ref_avg, \n",
    "                                                 SUM(s2.referencecount) AS s2_ref_sum,\n",
    "                                                 AVG(s2.referencecount) AS s2_ref_avg,\n",
    "                                                 oal.primary_topic.domain.display_name AS primary_topic\n",
    "                                             FROM {openalex_snapshot} AS oal\n",
    "                                             JOIN {s2ag_papers} AS s2\n",
    "                                                 ON LOWER(oal.doi) = LOWER(s2.externalids.DOI)\n",
    "                                             WHERE oal.publication_year BETWEEN 2015 AND 2023 \n",
    "                                                 AND oal.primary_location.source.type = 'journal'\n",
    "                                                 AND oal.type IN ('article', 'review') \n",
    "                                                 AND is_paratext=False \n",
    "                                                 AND is_retracted=False\n",
    "                                             GROUP BY primary_topic\n",
    "                                             \"\"\").to_dataframe()"
   ]
  },
  {
   "cell_type": "code",
   "execution_count": 59,
   "id": "97e9643c-8482-4272-8e34-126a61434f77",
   "metadata": {},
   "outputs": [
    {
     "data": {
      "text/html": [
       "<div>\n",
       "<style scoped>\n",
       "    .dataframe tbody tr th:only-of-type {\n",
       "        vertical-align: middle;\n",
       "    }\n",
       "\n",
       "    .dataframe tbody tr th {\n",
       "        vertical-align: top;\n",
       "    }\n",
       "\n",
       "    .dataframe thead th {\n",
       "        text-align: right;\n",
       "    }\n",
       "</style>\n",
       "<table border=\"1\" class=\"dataframe\">\n",
       "  <thead>\n",
       "    <tr style=\"text-align: right;\">\n",
       "      <th></th>\n",
       "      <th>oal_ref_sum</th>\n",
       "      <th>oal_ref_avg</th>\n",
       "      <th>s2_ref_sum</th>\n",
       "      <th>s2_ref_avg</th>\n",
       "      <th>primary_topic</th>\n",
       "    </tr>\n",
       "  </thead>\n",
       "  <tbody>\n",
       "    <tr>\n",
       "      <th>0</th>\n",
       "      <td>191680092</td>\n",
       "      <td>36.625827</td>\n",
       "      <td>190953855</td>\n",
       "      <td>36.487059</td>\n",
       "      <td>Life Sciences</td>\n",
       "    </tr>\n",
       "    <tr>\n",
       "      <th>1</th>\n",
       "      <td>235953838</td>\n",
       "      <td>23.902660</td>\n",
       "      <td>237839461</td>\n",
       "      <td>24.093678</td>\n",
       "      <td>Health Sciences</td>\n",
       "    </tr>\n",
       "    <tr>\n",
       "      <th>2</th>\n",
       "      <td>407198668</td>\n",
       "      <td>31.643654</td>\n",
       "      <td>400246309</td>\n",
       "      <td>31.103382</td>\n",
       "      <td>Physical Sciences</td>\n",
       "    </tr>\n",
       "    <tr>\n",
       "      <th>3</th>\n",
       "      <td>145744398</td>\n",
       "      <td>16.035306</td>\n",
       "      <td>163572762</td>\n",
       "      <td>17.996845</td>\n",
       "      <td>Social Sciences</td>\n",
       "    </tr>\n",
       "    <tr>\n",
       "      <th>4</th>\n",
       "      <td>2008830</td>\n",
       "      <td>1.398958</td>\n",
       "      <td>1650860</td>\n",
       "      <td>1.149666</td>\n",
       "      <td>None</td>\n",
       "    </tr>\n",
       "  </tbody>\n",
       "</table>\n",
       "</div>"
      ],
      "text/plain": [
       "   oal_ref_sum  oal_ref_avg  s2_ref_sum  s2_ref_avg      primary_topic\n",
       "0    191680092    36.625827   190953855   36.487059      Life Sciences\n",
       "1    235953838    23.902660   237839461   24.093678    Health Sciences\n",
       "2    407198668    31.643654   400246309   31.103382  Physical Sciences\n",
       "3    145744398    16.035306   163572762   17.996845    Social Sciences\n",
       "4      2008830     1.398958     1650860    1.149666               None"
      ]
     },
     "execution_count": 59,
     "metadata": {},
     "output_type": "execute_result"
    }
   ],
   "source": [
    "oal_s2_ref_sum_avg_per_topic"
   ]
  },
  {
   "cell_type": "code",
   "execution_count": null,
   "id": "a7c3c08d-4b72-47cb-825e-75b969d50b0d",
   "metadata": {},
   "outputs": [],
   "source": []
  }
 ],
 "metadata": {
  "kernelspec": {
   "display_name": "Python 3 (ipykernel)",
   "language": "python",
   "name": "python3"
  },
  "language_info": {
   "codemirror_mode": {
    "name": "ipython",
    "version": 3
   },
   "file_extension": ".py",
   "mimetype": "text/x-python",
   "name": "python",
   "nbconvert_exporter": "python",
   "pygments_lexer": "ipython3",
   "version": "3.11.13"
  }
 },
 "nbformat": 4,
 "nbformat_minor": 5
}
